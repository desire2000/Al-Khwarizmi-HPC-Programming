{
 "cells": [
  {
   "cell_type": "markdown",
   "id": "b540fda2",
   "metadata": {},
   "source": [
    "<h1 align=\"center\">OpenMP part 2</h1> "
   ]
  },
  {
   "cell_type": "markdown",
   "id": "52c638b8",
   "metadata": {},
   "source": [
    "## Exercise 1:\n",
    "\n",
    "Using your code 2D non linear convection equation from the `numba_pyccel_assignments`:\n",
    "1. Parallelize the 2D non linear convection equation\n",
    "2. Compare cpu time using different number of threads (Plot a figure of cpu time according to number of threads)"
   ]
  },
  {
   "cell_type": "code",
   "execution_count": null,
   "id": "6ae92f58",
   "metadata": {},
   "outputs": [],
   "source": [
    "# write your code here"
   ]
  },
  {
   "cell_type": "markdown",
   "id": "b48c863d",
   "metadata": {},
   "source": [
    "## Exercise 2:\n",
    "\n",
    "Using your code Navier Stokes equation from the `numba_pyccel_assignments`:\n",
    "1. Pyccelize the Navier Stokes equation (if it's not done).\n",
    "2. Parallelize it using OpenMP.\n",
    "3. Compare cpu time using different number of threads (Plot a figure of cpu time according to number of threads)"
   ]
  },
  {
   "cell_type": "code",
   "execution_count": 1,
   "id": "adf7e292",
   "metadata": {},
   "outputs": [],
   "source": [
    "# write your code here"
   ]
  }
 ],
 "metadata": {
  "kernelspec": {
   "display_name": "Python 3 (ipykernel)",
   "language": "python",
   "name": "python3"
  },
  "language_info": {
   "codemirror_mode": {
    "name": "ipython",
    "version": 3
   },
   "file_extension": ".py",
   "mimetype": "text/x-python",
   "name": "python",
   "nbconvert_exporter": "python",
   "pygments_lexer": "ipython3",
   "version": "3.8.10"
  }
 },
 "nbformat": 4,
 "nbformat_minor": 5
}
