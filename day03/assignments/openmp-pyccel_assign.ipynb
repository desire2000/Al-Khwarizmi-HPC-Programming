{
 "cells": [
  {
   "cell_type": "markdown",
   "id": "83c41ae5",
   "metadata": {},
   "source": [
    "*Note: all those exercises should be done using python with pyccel openmp*"
   ]
  },
  {
   "cell_type": "markdown",
   "id": "29a542fc",
   "metadata": {},
   "source": [
    "## Exercise 1 Hello World\n",
    "\n",
    "1. Write an OpenMP program displaying the number of threads used for the execution and the rank of each of the threads.\n",
    "3. Test the programs obtained with different numbers of threads for the parallel program.\n",
    "\n",
    "**Output Example**\n",
    "```shell\n",
    ">> Python hello.py\n",
    "Hello from the rank 2 thread\n",
    "Hello from the rank 0 thread\n",
    "Hello from the rank 3 thread\n",
    "Hello from the rank 1 thread\n",
    "Hello from the rank 4 thread\n",
    "Parallel execution of hello_world with 4 threads\n",
    "```\n",
    "*Note that the output order maybe different*"
   ]
  },
  {
   "cell_type": "code",
   "execution_count": 1,
   "id": "d1ea3667",
   "metadata": {},
   "outputs": [
    {
     "name": "stdout",
     "output_type": "stream",
     "text": [
      "Overwriting hello.py\n"
     ]
    }
   ],
   "source": [
    "%%file hello.py\n",
    "if __name__ ==\"__main__\":\n",
    "    from pyccel.stdlib.internal.openmp import omp_get_num_threads, omp_get_thread_num, omp_in_parallel, omp_set_num_threads\n",
    "    omp_set_num_threads(8)\n",
    "    #$ omp parallel\n",
    "    rank = omp_get_thread_num(), omp_get_num_threads()\n",
    "    print(\"Hello from the rank\", rank[0],\"threads\", \"\\n\")\n",
    "\n",
    "    #$ omp end parallel"
   ]
  },
  {
   "cell_type": "code",
   "execution_count": 2,
   "id": "64807994",
   "metadata": {},
   "outputs": [
    {
     "name": "stdout",
     "output_type": "stream",
     "text": [
      "Hello from the rank 6 threads \r\n",
      "\r\n",
      "Hello from the rank 2 threads \r\n",
      "\r\n",
      "Hello from the rank 3 threads \r\n",
      "\r\n",
      "Hello from the rank 4 threads \r\n",
      "\r\n",
      "Hello from the rank 5 threads \r\n",
      "\r\n",
      "Hello from the rank 7 threads \r\n",
      "\r\n",
      "Hello from the rank 1 threads \r\n",
      "\r\n",
      "Hello from the rank 0 threads \r\n",
      "\r\n"
     ]
    }
   ],
   "source": [
    "!pyccel --language=c hello.py --openmp\n",
    "#export OMP_NUM_THREADS=0\n",
    "!./hello"
   ]
  },
  {
   "cell_type": "code",
   "execution_count": 7,
   "id": "57d68e71",
   "metadata": {},
   "outputs": [],
   "source": [
    "import numpy as np"
   ]
  },
  {
   "cell_type": "markdown",
   "id": "aa3d505e",
   "metadata": {},
   "source": [
    "## Exercise 2 Matrix product\n",
    "\n",
    "Considering the following code for matrix product:\n",
    "\n",
    "1. Using pyccel, epyccelize the `matrix_prod` function, and time the execution of epyccelized function.\n",
    "2. Insert the appropriate OpenMP directives and analyse the code performance.\n",
    "3. Test the loop iteration repartition modes (`STATIC`, `DYNAMIC`, `GUIDED`) and vary the chunk sizes.\n",
    "**Example output**\n",
    "\n",
    "```bash\n",
    "   Value of M and N           : 20 20 \n",
    "    Temps elapsed              : 0.0009012222290039062 \n",
    "    Temps CPU                  : 0.0 \n",
    "    Partiel results            : 2790.0 2690.0 ... -3610.0 -4350.0 \n",
    "\n",
    " Execution of Matrix production in parallele with                     8 threads\n",
    "```"
   ]
  },
  {
   "cell_type": "code",
   "execution_count": 8,
   "id": "63275893",
   "metadata": {},
   "outputs": [],
   "source": [
    "import pyccel\n",
    "from pyccel.stdlib.internal.openmp import omp_get_num_threads, omp_get_thread_num, omp_in_parallel, omp_set_num_threads"
   ]
  },
  {
   "cell_type": "code",
   "execution_count": 18,
   "id": "d37278f8",
   "metadata": {},
   "outputs": [
    {
     "name": "stdout",
     "output_type": "stream",
     "text": [
      "Value of M and N   : 20   20 \n",
      " Temps elapsed      : 3.123283386230469e-05 \n",
      " Partiel results   : [[ 2850.  2620.  2390.  2160.  1930.  1700.  1470.  1240.  1010.   780.\n",
      "    550.   320.    90.  -140.  -370.  -600.  -830. -1060. -1290. -1520.]\n",
      " [ 3040.  2790.  2540.  2290.  2040.  1790.  1540.  1290.  1040.   790.\n",
      "    540.   290.    40.  -210.  -460.  -710.  -960. -1210. -1460. -1710.]\n",
      " [ 3230.  2960.  2690.  2420.  2150.  1880.  1610.  1340.  1070.   800.\n",
      "    530.   260.   -10.  -280.  -550.  -820. -1090. -1360. -1630. -1900.]\n",
      " [ 3420.  3130.  2840.  2550.  2260.  1970.  1680.  1390.  1100.   810.\n",
      "    520.   230.   -60.  -350.  -640.  -930. -1220. -1510. -1800. -2090.]\n",
      " [ 3610.  3300.  2990.  2680.  2370.  2060.  1750.  1440.  1130.   820.\n",
      "    510.   200.  -110.  -420.  -730. -1040. -1350. -1660. -1970. -2280.]\n",
      " [ 3800.  3470.  3140.  2810.  2480.  2150.  1820.  1490.  1160.   830.\n",
      "    500.   170.  -160.  -490.  -820. -1150. -1480. -1810. -2140. -2470.]\n",
      " [ 3990.  3640.  3290.  2940.  2590.  2240.  1890.  1540.  1190.   840.\n",
      "    490.   140.  -210.  -560.  -910. -1260. -1610. -1960. -2310. -2660.]\n",
      " [ 4180.  3810.  3440.  3070.  2700.  2330.  1960.  1590.  1220.   850.\n",
      "    480.   110.  -260.  -630. -1000. -1370. -1740. -2110. -2480. -2850.]\n",
      " [ 4370.  3980.  3590.  3200.  2810.  2420.  2030.  1640.  1250.   860.\n",
      "    470.    80.  -310.  -700. -1090. -1480. -1870. -2260. -2650. -3040.]\n",
      " [ 4560.  4150.  3740.  3330.  2920.  2510.  2100.  1690.  1280.   870.\n",
      "    460.    50.  -360.  -770. -1180. -1590. -2000. -2410. -2820. -3230.]\n",
      " [ 4750.  4320.  3890.  3460.  3030.  2600.  2170.  1740.  1310.   880.\n",
      "    450.    20.  -410.  -840. -1270. -1700. -2130. -2560. -2990. -3420.]\n",
      " [ 4940.  4490.  4040.  3590.  3140.  2690.  2240.  1790.  1340.   890.\n",
      "    440.   -10.  -460.  -910. -1360. -1810. -2260. -2710. -3160. -3610.]\n",
      " [ 5130.  4660.  4190.  3720.  3250.  2780.  2310.  1840.  1370.   900.\n",
      "    430.   -40.  -510.  -980. -1450. -1920. -2390. -2860. -3330. -3800.]\n",
      " [ 5320.  4830.  4340.  3850.  3360.  2870.  2380.  1890.  1400.   910.\n",
      "    420.   -70.  -560. -1050. -1540. -2030. -2520. -3010. -3500. -3990.]\n",
      " [ 5510.  5000.  4490.  3980.  3470.  2960.  2450.  1940.  1430.   920.\n",
      "    410.  -100.  -610. -1120. -1630. -2140. -2650. -3160. -3670. -4180.]\n",
      " [ 5700.  5170.  4640.  4110.  3580.  3050.  2520.  1990.  1460.   930.\n",
      "    400.  -130.  -660. -1190. -1720. -2250. -2780. -3310. -3840. -4370.]\n",
      " [ 5890.  5340.  4790.  4240.  3690.  3140.  2590.  2040.  1490.   940.\n",
      "    390.  -160.  -710. -1260. -1810. -2360. -2910. -3460. -4010. -4560.]\n",
      " [ 6080.  5510.  4940.  4370.  3800.  3230.  2660.  2090.  1520.   950.\n",
      "    380.  -190.  -760. -1330. -1900. -2470. -3040. -3610. -4180. -4750.]\n",
      " [ 6270.  5680.  5090.  4500.  3910.  3320.  2730.  2140.  1550.   960.\n",
      "    370.  -220.  -810. -1400. -1990. -2580. -3170. -3760. -4350. -4940.]\n",
      " [ 6460.  5850.  5240.  4630.  4020.  3410.  2800.  2190.  1580.   970.\n",
      "    360.  -250.  -860. -1470. -2080. -2690. -3300. -3910. -4520. -5130.]] \n",
      " CPU time       : 3.490399999961369e-05 \n",
      "Execution of Matrix production in parallele with  8 threads\n"
     ]
    }
   ],
   "source": [
    "def matrix_prod(A:'float[:,:]', B:'float[:,:]', C:'float[:,:]', N:'int', M:'int', threads:'int'):\n",
    "\n",
    "    #$ omp parallel\n",
    "    #$ omp for collapse(2)reduction (+:A) \n",
    "    for i in range( M ):\n",
    "        for j in range( N ):\n",
    "            A[ i, j ] = (i + 1) + (j + 1)\n",
    "\n",
    "    #$ omp for collapse(2)reduction (+:B) \n",
    "    for i in range( N ):\n",
    "        for j in range( M ):\n",
    "            B[ i, j ] = (i + 1) - (j + 1)\n",
    "\n",
    "    #$ omp for collapse(2)\n",
    "    for i in range( M ):\n",
    "        for j in range( M ):\n",
    "            C[ i, j ] = 0\n",
    "    \n",
    "    # Matrix Production\n",
    "\n",
    "    #$ omp for collapse(3) reduction (*:C) reduction (+:C) \n",
    "    for i in range( M ):\n",
    "        for j in range( M ):\n",
    "            for k in range( N ):\n",
    "                C[ i, j ] += A[ i, k ] * B[ k, j ]\n",
    "    #$ omp end parallel\n",
    "    return 0\n",
    "\n",
    "#     print(\"Execution of Matrix production in parallele with\",nb_threads, \"threads\")\n",
    "\n",
    "\n",
    "if __name__ == \"__main__\":\n",
    "    import numpy as np\n",
    "    import time\n",
    "    import math\n",
    "    from pyccel.epyccel import epyccel\n",
    "\n",
    "    M = 20\n",
    "    N = 20\n",
    "    threads = 8\n",
    "\n",
    "    # Declare Matrices\n",
    "    A = np.empty((M, N), dtype=np.double)\n",
    "    B = np.empty((N, M), dtype=np.double)\n",
    "    C = np.empty((M, M), dtype=np.double)\n",
    "\n",
    "#   #run and time the matrix_prod function  \n",
    "    threads = 8\n",
    "    \n",
    "    omp_set_num_threads(threads)\n",
    "    execute = epyccel(matrix_prod, language=\"c\", accelerators= ' openmp ')\n",
    "    import timeit\n",
    "    # start CPU timing\n",
    "    tcpu_0 = time.process_time() \n",
    "    # start whole timing\n",
    "    t1 = time.time()\n",
    "    \n",
    "    execute(A,B,C,N,M,threads)\n",
    "    # CPU time \n",
    "    tcpu = time.process_time() - tcpu_0  \n",
    "    # whole time\n",
    "    temps_execution = time.time() - t1\n",
    "    \n",
    "    print(\"Value of M and N   :\", M,\" \",N,'\\n',\n",
    "        \"Temps elapsed      :\", temps_execution,  '\\n',\n",
    "        \"Partiel results   :\", C,    '\\n',\n",
    "        \"CPU time       :\", tcpu,        '\\n'\n",
    "        \"Execution of Matrix production in parallele with \",threads,\"threads\"\n",
    "    )\n",
    "    "
   ]
  },
  {
   "cell_type": "code",
   "execution_count": 19,
   "id": "3df245e0",
   "metadata": {},
   "outputs": [
    {
     "name": "stdout",
     "output_type": "stream",
     "text": [
      "[4.649162292480469e-05, 3.170967102050781e-05, 3.170967102050781e-05, 3.123283386230469e-05, 3.266334533691406e-05, 3.528594970703125e-05, 3.266334533691406e-05, 3.2901763916015625e-05]\n"
     ]
    }
   ],
   "source": [
    "    threads = 9\n",
    "    temps_execution = []\n",
    "    for i in range(1,threads):\n",
    "        omp_set_num_threads(i)\n",
    "        execute = epyccel(matrix_prod, language=\"c\", accelerators= ' openmp ')\n",
    "        import timeit\n",
    "        t1 = time.time()\n",
    "\n",
    "        execute(A,B,C,N,M,threads)\n",
    "        temps_execution.append(time.time()- t1)\n",
    "    print(temps_execution) "
   ]
  },
  {
   "cell_type": "code",
   "execution_count": 20,
   "id": "90f4e0d7",
   "metadata": {},
   "outputs": [
    {
     "data": {
      "image/png": "[encoded data removed]",
      "text/plain": [
       "<Figure size 864x576 with 1 Axes>"
      ]
     },
     "metadata": {
      "needs_background": "light"
     },
     "output_type": "display_data"
    }
   ],
   "source": [
    "import matplotlib.pyplot as plt\n",
    "plt.figure(figsize=(12,8))\n",
    "threads = np.arange(1,9,1)\n",
    "plt.plot(threads,temps_execution, label='temps d\\'exécution en secondes')\n",
    "plt.xlabel(\"threads\")\n",
    "plt.ylabel(\"secondes\")\n",
    "plt.legend()\n",
    "plt.show()"
   ]
  },
  {
   "cell_type": "markdown",
   "id": "cc9d6e51",
   "metadata": {},
   "source": [
    "## Exercise 3 Jacobi method\n",
    "\n",
    "Considering the following code for a general linear system solver:\n",
    "\n",
    "$$ A \\times x = b $$\n",
    "\n",
    "using the Jacobi iterative method.\n",
    "In this exercice, you must solve the system in parallel\n",
    "   \n",
    "**Example Output**\n",
    "    \n",
    "```bash\n",
    "System size    : 20 \n",
    " Iterations     : 21 \n",
    " Stand          : 2.9100049961372497e-08 \n",
    " Elapsed Time   : 7.447303771972656 \n",
    " CPU time       : 0.921875 \n",
    "```"
   ]
  },
  {
   "cell_type": "code",
   "execution_count": 31,
   "id": "44299f71",
   "metadata": {},
   "outputs": [
    {
     "name": "stdout",
     "output_type": "stream",
     "text": [
      "System size    : 20 \n",
      " Iterations     : 21 \n",
      " Stand          : 0.0008385168507172169 \n",
      " Elapsed Time   : 0.6994695663452148 \n",
      " CPU time       : 0.1057443100000004 \n",
      "\n"
     ]
    }
   ],
   "source": [
    "def jacobi(a:'float[:,:]', b:'float[:]', x:'float[:]', n:'int', eps:'float'):\n",
    "\n",
    "#     print(\"Execution of Jacobi in parallel with\", nb_tasks, \"threads\")\n",
    "    # Jacobi method resolution\n",
    "    import numpy as np\n",
    "    import math\n",
    "    x_courant = np.empty(n, dtype=np.double)\n",
    "    iteration = 0\n",
    "    #$ omp parallel \n",
    "    while(1):\n",
    "        iteration += 1\n",
    "        #$ omp for\n",
    "        for i in range(n):\n",
    "            x_courant[i] = 0\n",
    "            for j in range(i):\n",
    "                x_courant[i] += a[ j, i ] * x[j]\n",
    "            for j in range(i + 1, n):\n",
    "                x_courant[i] += a[ j, i ] * x[j]\n",
    "\n",
    "            x_courant[i] = (b[i] - x_courant[i]) / a[ i, i ]\n",
    "        \n",
    "        # Convergence test\n",
    "        \n",
    "        \n",
    "        absmax = 0.\n",
    "        #$ omp for\n",
    "        for i in range(n):\n",
    "            curr = math.fabs(x[i] - x_courant[i])\n",
    "            if curr > absmax:\n",
    "                absmax = curr\n",
    "        stand = absmax / n\n",
    "        \n",
    "        if stand <= eps or iteration > n:\n",
    "            break\n",
    "        \n",
    "        # copy x_courant into x\n",
    "        \n",
    "        #$ omp for\n",
    "        for i in range(n):\n",
    "            x [i] = x_courant[i]\n",
    "            \n",
    "    #$ omp end parallel\n",
    "\n",
    "    return stand, iteration\n",
    "\n",
    "\n",
    "if __name__ == \"__main__\":\n",
    "\n",
    "    import numpy as np\n",
    "    import time, random, math, sys\n",
    "\n",
    "    # Matrix default dimension\n",
    "    n = 20\n",
    "    diag = 20\n",
    "\n",
    "    # Initialize of the matrices\n",
    "    np.random.seed(421)  # for reproductibles results\n",
    "    a = np.random.uniform(0, 1, size=(n, n))\n",
    "    b = np.random.uniform(0, 1, size=n)\n",
    "\n",
    "    # We strengthen the main diagonal of the matrix\n",
    "    for i in range(n):\n",
    "        a[ i, i ] += diag\n",
    "\n",
    "    # Initial solution\n",
    "    x = np.ones(n, dtype=np.double)\n",
    "\n",
    "    # start CPU timing\n",
    "    cpu_0 = time.process_time()\n",
    "\n",
    "    # start Wall timing\n",
    "    elapsed_0 = time.time()\n",
    "\n",
    "    # Pyccelize jacobi function\n",
    "    from pyccel.epyccel import epyccel\n",
    "    p_jacobi = epyccel(jacobi, language='fortran', accelerators=['openmp'])\n",
    "\n",
    "    eps = sys.float_info.epsilon\n",
    "\n",
    "    # -------------------- computing ------------------\n",
    "    stand, iteration = p_jacobi(a, b, x, n, eps)\n",
    "    # ------------------ End computing ----------------\n",
    "\n",
    "    # CPU time\n",
    "    cpu_1 = time.process_time() \n",
    "    cpu = cpu_1 - cpu_0\n",
    "\n",
    "    # Wall timing\n",
    "    elapsed_1 = time.time()\n",
    "    elapsed = elapsed_1 - elapsed_0\n",
    "\n",
    "    print(\n",
    "        \"System size    :\", n,          '\\n',\n",
    "        \"Iterations     :\", iteration,  '\\n',\n",
    "        \"Stand          :\", stand,      '\\n',\n",
    "        \"Elapsed Time   :\", elapsed,    '\\n',\n",
    "        \"CPU time       :\", cpu,        '\\n'\n",
    "    )"
   ]
  },
  {
   "cell_type": "markdown",
   "id": "6d650c53",
   "metadata": {},
   "source": [
    "## Exercise 4 Calculation of π\n",
    "\n",
    "The aim of this exercise is to calculate π by numerical integration knowing that Considering the following code for matrix product: $\\int_{0}^{1} \\frac{4}{1 + x^2} = {\\pi} $\n",
    "\n",
    "The following program is for calculating the value of\n",
    "π by the rectangle method (mid-point). Let $f(x) = \\frac{4}{1 + x^2} $\n",
    "2 be the function to integrate, N and $ h = \\frac{1}{N} $ (respectively) the number of points, and the discretization width on the integration\n",
    "interval $[0, 1]$.\n",
    "\n",
    "Analyse the performance of the codes, then optimise  your code using OpenMP directives."
   ]
  },
  {
   "cell_type": "code",
   "execution_count": 28,
   "id": "67137907",
   "metadata": {},
   "outputs": [
    {
     "name": "stdout",
     "output_type": "stream",
     "text": [
      "Overwriting pi.py\n"
     ]
    }
   ],
   "source": [
    "%%file pi.py\n",
    "def f(a:'float'):\n",
    "    return 4.0 / (1. + a * a)\n",
    "\n",
    "def pi(n:'int', h:'float'):\n",
    "#     print(\"Execution of PI in parallel with\", nb_tasks,\"threads\")\n",
    "    from pyccel.stdlib.internal.openmp import omp_get_num_threads, omp_get_thread_num, omp_in_parallel, omp_set_num_threads\n",
    "    omp_set_num_threads(4)\n",
    "    #$ omp parallel private(rank, nb_tasks, i_min, i_max)\n",
    "    i_min = 100.\n",
    "    i_max = 0.\n",
    "    rank = omp_get_thread_num()\n",
    "    nb_tasks = omp_get_num_threads()\n",
    "    #$ omp for \n",
    "    #reduction(+:x) reduction(*:x)\n",
    "    for k in range(100):\n",
    "        Pi_calc = 0.\n",
    "        for i in range(n):\n",
    "            x = h * (i + 0.5)\n",
    "            Pi_calc = Pi_calc + f(x)\n",
    "            i_min = min(float(i_min),float(i))\n",
    "            i_max = min(float(i_min),float(i))\n",
    "\n",
    "        Pi_calc = h * Pi_calc\n",
    "    #$ omp end parallel\n",
    "    return Pi_calc"
   ]
  },
  {
   "cell_type": "code",
   "execution_count": 33,
   "id": "d9742f4a",
   "metadata": {},
   "outputs": [
    {
     "name": "stdout",
     "output_type": "stream",
     "text": [
      "   Number of intervals        : 300 \n",
      "    | Pi_estime - Pi_calcule | : 9.259259248217688e-07 \n",
      "    Temps elapsed              : 0.00021696090698242188 \n",
      "    Temps CPU                  : 0.0002683699999996847 \n",
      "    Pi estimé                  : 3.141592653589793 \n",
      "    Pi calculé                 : 3.141593579515718 \n",
      "\n"
     ]
    }
   ],
   "source": [
    "import time, math\n",
    "\n",
    "if __name__ == '__main__':\n",
    "    #                  __\n",
    "    #  But : calcul de || par la methode des rectangles (point milieu).\n",
    "    #\n",
    "    #                   / 1\n",
    "    #                  |       4            __\n",
    "    #                  |   ----------  dx = ||\n",
    "    #                  |    1 + x**2\n",
    "    #                 / 0\n",
    "\n",
    "\n",
    "    n = 300\n",
    "\n",
    "    # Length of the integration interval\n",
    "    h = 1.0 / n\n",
    "\n",
    "    from pyccel.epyccel import epyccel\n",
    "    import pi\n",
    "    pyc_pi = epyccel(pi, language='fortran', accelerators=['openmp'])\n",
    "\n",
    "    # start timing\n",
    "    tcpu_0 = time.process_time() # CPU time\n",
    "    t_elapsed_0 = time.time()    # Wall time\n",
    "\n",
    "    # -------------------- computing ------------------\n",
    "\n",
    "    Pi_calc = pyc_pi.pi(n, h)\n",
    "\n",
    "    # ------------------ End computing ----------------\n",
    "\n",
    "    # CPU time spent\n",
    "    tcpu_1 = time.process_time()\n",
    "    tcpu = tcpu_1 - tcpu_0  \n",
    "\n",
    "    # Wall time spent\n",
    "    t_elapsed_1 = time.time()\n",
    "    t_elapsed = t_elapsed_1 - t_elapsed_0\n",
    "\n",
    "    # deviation between the estimated value and the calculated value of Pi\n",
    "    Pi_estime = math.acos(-1)\n",
    "    deviat = math.fabs(Pi_estime - Pi_calc)\n",
    "\n",
    "    # Print result\n",
    "    print(\n",
    "      \"   Number of intervals        :\", n,         \"\\n\",\n",
    "\t  \"   | Pi_estime - Pi_calcule | :\", deviat,    \"\\n\",\n",
    "\t  \"   Temps elapsed              :\", t_elapsed, \"\\n\",\n",
    "\t  \"   Temps CPU                  :\", tcpu,      \"\\n\",\n",
    "      \"   Pi estimé                  :\", Pi_estime, \"\\n\",\n",
    "      \"   Pi calculé                 :\", Pi_calc,   \"\\n\",\n",
    "    )"
   ]
  },
  {
   "cell_type": "markdown",
   "id": "d1eb7dfe",
   "metadata": {},
   "source": [
    "## Exercise 5 Reduction of an array\n",
    "\n",
    "The given program contained in the `reduction_tab.py` file is extracted from a chemistry code. It reduces a three-dimensional array into a vector. The aim of this exercise is to parallelize this calculation kernel without changing the loop order in the provided code (i.e. k,j,i)\n",
    "\n",
    "1. Analyse the data-sharing attributes of the variables and adapt the source code so that the K outermost loop is parallelized.\n",
    "2. Compare the performance obtained by using the thread/core binding default execution on Ada and by using scatter binding. Suggest an explanation for the poor performance of the latter.\n",
    "3. Optimise the source code for the scatter mode with taking into account the memory affinity. Why does this third series of executions give the best performance "
   ]
  },
  {
   "cell_type": "markdown",
   "id": "319eabeb",
   "metadata": {},
   "source": [
    "* Analysez les attributs de partage de données des variables et adaptez le code source afin que la boucle K la plus externe soit parallélisée.\n",
    "* Comparez les performances obtenues en utilisant l'exécution par défaut de la liaison thread/core sur Ada et en utilisant la liaison scatter. Suggérez une explication à la mauvaise performance de ce dernier.\n",
    "* Optimisez le code source pour le mode scatter en tenant compte de l'affinité mémoire. Pourquoi cette troisième série d'exécutions donne-t-elle les meilleures performances"
   ]
  },
  {
   "cell_type": "code",
   "execution_count": 21,
   "id": "d9bc85e5",
   "metadata": {},
   "outputs": [
    {
     "name": "stdout",
     "output_type": "stream",
     "text": [
      "Overwriting reduction_tab.py\n"
     ]
    }
   ],
   "source": [
    "%%file reduction_tab.py\n",
    "\n",
    "def threads_num():\n",
    "    from pyccel.stdlib.internal.openmp import  omp_get_thread_num\n",
    "    return omp_get_thread_num()\n",
    "def initialize_table(tab:'float[:,:,:]', nmolec:'int', n:'int', nmol:'int'):\n",
    "    # Initialisation du tableau\n",
    "    # First-touch pour garantir un fonctionnement optimal sur les systemes NUMA\n",
    "    for k in range(nmolec):\n",
    "        for j in range(n):\n",
    "            for i in range(nmol):\n",
    "                tab[ i,j,k ] = i + j + k\n",
    "\n",
    "def reduction(tab:'float[:,:,:]', tab1:'float[:]', tab2:'float[:]', nmolec:'int', nmol:'int', n:'int'):\n",
    "    for k in range(nmolec):\n",
    "        tab1[:nmol] = 0\n",
    "        for j in range(n):\n",
    "            for i in range(nmol):\n",
    "                tab1[i] = tab1[i] + tab[i,j,k]\n",
    "        tab2[:nmol] = tab2[:nmol] + 2 * tab1[:nmol]"
   ]
  },
  {
   "cell_type": "code",
   "execution_count": 22,
   "id": "a095c4cb",
   "metadata": {},
   "outputs": [
    {
     "data": {
      "text/plain": [
       "(100, 10, 100)"
      ]
     },
     "execution_count": 22,
     "metadata": {},
     "output_type": "execute_result"
    }
   ],
   "source": [
    "np.empty((100,10,100), dtype=np.double).shape"
   ]
  },
  {
   "cell_type": "code",
   "execution_count": 23,
   "id": "9d06f98e",
   "metadata": {
    "scrolled": true
   },
   "outputs": [
    {
     "name": "stdout",
     "output_type": "stream",
     "text": [
      "Execution of reduction table in parallele with <built-in function threads_num> threads\n",
      "Temps elapsed  : 0.00011539459228515625 \n",
      " Temps CPU      : 0.00011864599999977798 \n",
      " Erreur relative: 0.0 \n",
      "\n"
     ]
    }
   ],
   "source": [
    "from os import error\n",
    "\n",
    "if __name__ == '__main__':\n",
    "    import numpy as np\n",
    "    import time\n",
    "\n",
    "    # default dimension\n",
    "    nmolec = 100\n",
    "    nmol   = 100\n",
    "    n      = 10\n",
    "\n",
    "    tab     = np.empty((nmol, n, nmolec), dtype=np.double)\n",
    "    tab1    = np.empty((nmol), dtype=np.double)\n",
    "    tab2    = np.zeros((nmol), dtype=np.double)\n",
    "\n",
    "    # pyccelize reduction tab module\n",
    "    from pyccel.epyccel import epyccel\n",
    "    import reduction_tab\n",
    "    \n",
    "    reduction = epyccel(reduction_tab, language='fortran', accelerators=['openmp'])\n",
    "    \n",
    "    print(\"Execution of reduction table in parallele with\", reduction.threads_num, \"threads\")\n",
    "\n",
    "    # initialize tab \n",
    "    reduction.initialize_table(tab, nmol, n, nmolec)\n",
    "\n",
    "    # start timing\n",
    "    tcpu_0 = time.process_time() # CPU time\n",
    "    t_elapsed_0 = time.time()    # Wall time\n",
    "\n",
    "    # -------------------- computing ------------------\n",
    "    reduction.reduction(tab, tab1, tab2, nmolec, nmol, n)\n",
    "    # ------------------ End computing ----------------\n",
    "\n",
    "    # CPU time spent\n",
    "    tcpu_1 = time.process_time()\n",
    "    tcpu = tcpu_1 - tcpu_0\n",
    "\n",
    "    # Wall time spent\n",
    "    t_elapsed_1 = time.time()\n",
    "    t_elapsed = t_elapsed_1 - t_elapsed_0\n",
    "\n",
    "    # verification of results\n",
    "    tab2c = np.zeros((nmol), dtype=np.double)\n",
    "    for k in range(nmolec):\n",
    "        tab1c = np.zeros((nmol), dtype=np.double)\n",
    "        for j in range(n):\n",
    "            for i in range(nmol):\n",
    "                tab1c[i] = tab1c[i] + tab[i, j, k]\n",
    "        tab2c [:] = tab2c[:nmol] + 2 * tab1c[:]\n",
    "    err = np.max(np.abs(tab2c - tab2) / np.abs(tab2c))\n",
    "    print(\n",
    "        \"Temps elapsed  :\", t_elapsed   , \"\\n\",\n",
    "        \"Temps CPU      :\", tcpu        , \"\\n\",\n",
    "        \"Erreur relative:\", err         , \"\\n\"\n",
    "    )"
   ]
  },
  {
   "cell_type": "markdown",
   "id": "e24b9e5f",
   "metadata": {},
   "source": [
    "# Exercise 6 Matrix product by the Strassen algorithm\n",
    "\n",
    "Considering the following code that calculates the matrix product :\n",
    "\n",
    "$$C = A \\times B$$\n",
    "\n",
    "by using Strassen’s recursive algorithm.\n",
    "\n",
    "In this exercise, you must :\n",
    "1. Analyse and parallelize the code by using OpenMP tasks.\n",
    "2. Measure the code performance and plot the speedup curves obtained."
   ]
  },
  {
   "cell_type": "code",
   "execution_count": 62,
   "id": "86f1d69f",
   "metadata": {},
   "outputs": [],
   "source": [
    "import time, math\n",
    "import numpy as np\n",
    "\n",
    "def threads_num():\n",
    "    #complete your function\n",
    "    from pyccel.stdlib.internal.openmp import  omp_get_thread_num\n",
    "    return omp_get_thread_num()\n",
    "\n",
    "def strassen_multiply(A:'float[:,:]', B:'float[:,:]', C:'float[:,:]', n:'int'):\n",
    "    import numpy as np\n",
    "    #$ omp parallel\n",
    "    if n & 1 != 0  or n < 128:\n",
    "        C[:,:] = np.matmul(A, B)\n",
    "    else:\n",
    "        #$ omp sections \n",
    "        #$ omp section\n",
    "        n2 = n // 2\n",
    "        A11 = A[ 0:n2, 0:n2 ]\n",
    "        A21 = A[ n2:n, 0:n2 ]\n",
    "        A12 = A[ 0:n2, n2:n ]\n",
    "        A22 = A[ n2:n, n2:n ]\n",
    "        #$ omp end section\n",
    "        \n",
    "        #$ omp section\n",
    "        B11 = B[ 0:n2, 0:n2 ]\n",
    "        B21 = B[ n2:n, 0:n2 ]\n",
    "        B12 = B[ 0:n2, n2:n ]\n",
    "        B22 = B[ n2:n, n2:n ]\n",
    "        #$ omp end section\n",
    "        \n",
    "        #$ omp section\n",
    "        Q1 = np.empty((n2, n2), dtype=np.double)\n",
    "        Q2 = np.empty((n2, n2), dtype=np.double)\n",
    "        Q3 = np.empty((n2, n2), dtype=np.double)\n",
    "        Q4 = np.empty((n2, n2), dtype=np.double)\n",
    "        Q5 = np.empty((n2, n2), dtype=np.double)\n",
    "        Q6 = np.empty((n2, n2), dtype=np.double)\n",
    "        Q7 = np.empty((n2, n2), dtype=np.double)\n",
    "        #$ omp end section\n",
    "        #$ omp end sections\n",
    "        \n",
    "        strassen_multiply(A11+A22, B11+B22, Q1, n2)\n",
    "        strassen_multiply(A21+A22, B11, Q2, n2)\n",
    "        strassen_multiply(A11, B12-B22, Q3, n2)\n",
    "        strassen_multiply(A22, -B11+B21, Q4, n2) \n",
    "        strassen_multiply(A11+A12, B22, Q5, n2)\n",
    "        strassen_multiply(-A11+A21, B11+B12, Q6, n2)\n",
    "        strassen_multiply(A12-A22, B21+B22, Q7, n2)\n",
    "        C[:n2,:n2] = Q1+Q4-Q5+Q7\n",
    "        C[n2:n,:n2] = Q2+Q4\n",
    "        C[:n2,n2:n] = Q3+Q5\n",
    "        C[n2:n,n2:n] = Q1+Q3-Q2+Q6\n",
    "    #$ omp end parallel"
   ]
  },
  {
   "cell_type": "code",
   "execution_count": 58,
   "id": "0a963b25",
   "metadata": {},
   "outputs": [],
   "source": [
    "def calcul_erreur(n, A, B, C):\n",
    "    D = np.matmul(A, B) \n",
    "    error = 0.0\n",
    "    for i in range(n):\n",
    "        for j in range(n):\n",
    "            e = C[ i, j ] - D[ i, j ]\n",
    "            error += e * e\n",
    "\n",
    "    error = math.sqrt(error) / n\n",
    "    return error"
   ]
  },
  {
   "cell_type": "code",
   "execution_count": 67,
   "id": "84a619a7",
   "metadata": {},
   "outputs": [
    {
     "name": "stdout",
     "output_type": "stream",
     "text": [
      "Execution of Strassen in parallele with 0 threads\n",
      "   Erreur        : 3.377379142794413e-14 \n",
      "    Temps elapsed : 0.007001161575317383 \n",
      "    Temps CPU     : 0.022492085000003215 \n",
      "\n"
     ]
    }
   ],
   "source": [
    "\n",
    "if __name__ == '__main__':\n",
    "    n = 256\n",
    "    from pyccel.stdlib.internal.openmp import omp_get_num_threads, omp_get_thread_num, omp_in_parallel, omp_set_num_threads\n",
    "    omp_set_num_threads(8)\n",
    "    # Initialize Matrices\n",
    "    np.random.seed(421)\n",
    "    A = np.random.uniform(0, 1, (n, n))\n",
    "    B = np.random.uniform(0, 1, (n, n))\n",
    "    C = np.empty((n,n), dtype=np.double)\n",
    "\n",
    "    from pyccel.epyccel import epyccel\n",
    "    strassen = epyccel(strassen_multiply, accelerators=['openmp'])\n",
    "    num_threads = epyccel(threads_num, accelerators=['openmp'])\n",
    "    print(\"Execution of Strassen in parallele with\", num_threads(), \"threads\")\n",
    "    \n",
    "    \n",
    "    # Start timing\n",
    "    tcpu_0 = time.process_time() # CPU time\n",
    "    t_elapsed_0 = time.time()    # Wall time\n",
    "    # -------------------- computing ------------------\n",
    "    # Calcul C=A*B par la methode recursive de Strassen\n",
    "    strassen(A, B, C, n)\n",
    "    # ------------------ end computing ----------------\n",
    "    # CPU time spent\n",
    "    tcpu_1 = time.process_time()\n",
    "    tcpu = tcpu_1 - tcpu_0\n",
    "\n",
    "    # Wall time spent\n",
    "    t_elapsed_1 = time.time()\n",
    "    t_elapsed = t_elapsed_1 - t_elapsed_0\n",
    "    # Print result\n",
    "    print(\n",
    "      \"   Erreur        :\", calcul_erreur(n, A, B, C),  \"\\n\",\n",
    "\t  \"   Temps elapsed :\", t_elapsed,                  \"\\n\",\n",
    "\t  \"   Temps CPU     :\", tcpu,                       \"\\n\",\n",
    "    )\n"
   ]
  },
  {
   "cell_type": "code",
   "execution_count": 65,
   "id": "580ea054",
   "metadata": {},
   "outputs": [
    {
     "name": "stdout",
     "output_type": "stream",
     "text": [
      "Execution of Strassen in parallele with 0 threads\n",
      "   Erreur        : 3.377379142794413e-14 \n",
      "    Temps elapsed : 0.007281064987182617 \n",
      "    Temps CPU     : 0.024517379000002393 \n",
      "\n"
     ]
    }
   ],
   "source": [
    "\n",
    "if __name__ == '__main__':\n",
    "    n = 256\n",
    "\n",
    "    # Initialize Matrices\n",
    "    np.random.seed(421)\n",
    "    A = np.random.uniform(0, 1, (n, n))\n",
    "    B = np.random.uniform(0, 1, (n, n))\n",
    "    C = np.empty((n,n), dtype=np.double)\n",
    "\n",
    "    from pyccel.epyccel import epyccel\n",
    "    strassen = epyccel(strassen_multiply, accelerators=['openmp'])\n",
    "    num_threads = epyccel(threads_num, accelerators=['openmp'])\n",
    "    print(\"Execution of Strassen in parallele with\", num_threads(), \"threads\")\n",
    "    \n",
    "    \n",
    "    # Start timing\n",
    "    tcpu_0 = time.process_time() # CPU time\n",
    "    t_elapsed_0 = time.time()    # Wall time\n",
    "    # -------------------- computing ------------------\n",
    "    # Calcul C=A*B par la methode recursive de Strassen\n",
    "    strassen(A, B, C, n)\n",
    "    # ------------------ end computing ----------------\n",
    "    # CPU time spent\n",
    "    tcpu_1 = time.process_time()\n",
    "    tcpu = tcpu_1 - tcpu_0\n",
    "\n",
    "    # Wall time spent\n",
    "    t_elapsed_1 = time.time()\n",
    "    t_elapsed = t_elapsed_1 - t_elapsed_0\n",
    "    # Print result\n",
    "    print(\n",
    "      \"   Erreur        :\", calcul_erreur(n, A, B, C),  \"\\n\",\n",
    "\t  \"   Temps elapsed :\", t_elapsed,                  \"\\n\",\n",
    "\t  \"   Temps CPU     :\", tcpu,                       \"\\n\",\n",
    "    )\n"
   ]
  },
  {
   "cell_type": "code",
   "execution_count": 47,
   "id": "32e7ff2c",
   "metadata": {},
   "outputs": [],
   "source": [
    "A = [1,2,4,5]\n",
    "B=A[1]"
   ]
  },
  {
   "cell_type": "code",
   "execution_count": 83,
   "id": "ffb391ca",
   "metadata": {},
   "outputs": [
    {
     "data": {
      "text/plain": [
       "2"
      ]
     },
     "execution_count": 83,
     "metadata": {},
     "output_type": "execute_result"
    }
   ],
   "source": [
    "B"
   ]
  }
 ],
 "metadata": {
  "kernelspec": {
   "display_name": "Python 3 (ipykernel)",
   "language": "python",
   "name": "python3"
  },
  "language_info": {
   "codemirror_mode": {
    "name": "ipython",
    "version": 3
   },
   "file_extension": ".py",
   "mimetype": "text/x-python",
   "name": "python",
   "nbconvert_exporter": "python",
   "pygments_lexer": "ipython3",
   "version": "3.8.10"
  }
 },
 "nbformat": 4,
 "nbformat_minor": 5
}
