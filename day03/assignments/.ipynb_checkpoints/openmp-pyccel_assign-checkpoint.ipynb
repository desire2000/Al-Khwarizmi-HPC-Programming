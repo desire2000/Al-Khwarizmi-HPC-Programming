{
 "cells": [
  {
   "cell_type": "markdown",
   "id": "83c41ae5",
   "metadata": {},
   "source": [
    "*Note: all those exercises should be done using python with pyccel openmp*"
   ]
  },
  {
   "cell_type": "markdown",
   "id": "29a542fc",
   "metadata": {},
   "source": [
    "## Exercise 1 Hello World\n",
    "\n",
    "1. Write an OpenMP program displaying the number of threads used for the execution and the rank of each of the threads.\n",
    "3. Test the programs obtained with different numbers of threads for the parallel program.\n",
    "\n",
    "**Output Example**\n",
    "```shell\n",
    ">> Python hello.py\n",
    "Hello from the rank 2 thread\n",
    "Hello from the rank 0 thread\n",
    "Hello from the rank 3 thread\n",
    "Hello from the rank 1 thread\n",
    "Hello from the rank 4 thread\n",
    "Parallel execution of hello_world with 4 threads\n",
    "```\n",
    "*Note that the output order maybe different*"
   ]
  },
  {
   "cell_type": "code",
   "execution_count": 173,
   "id": "d1ea3667",
   "metadata": {},
   "outputs": [
    {
     "name": "stdout",
     "output_type": "stream",
     "text": [
      "Overwriting hello.py\n"
     ]
    }
   ],
   "source": [
    "%%file hello.py\n",
    "if __name__ ==\"__main__\":\n",
    "    from pyccel.stdlib.internal.openmp import omp_get_num_threads, omp_get_thread_num, omp_in_parallel, omp_set_num_threads\n",
    "    omp_set_num_threads(4)\n",
    "    #$ omp parallel\n",
    "    rank = omp_get_thread_num(), omp_get_num_threads()\n",
    "    print(\"Hello from the rank\", rank[0],\"threads\", \"\\n\")\n",
    "    #$ omp end parallel\n",
    "    print(\"Parallel execution of hello_world with \",rank[1],\" threads\")"
   ]
  },
  {
   "cell_type": "code",
   "execution_count": 174,
   "id": "64807994",
   "metadata": {},
   "outputs": [
    {
     "name": "stdout",
     "output_type": "stream",
     "text": [
      "Hello from the rank 0 threads \r\n",
      "\r\n",
      "Hello from the rank 1 threads \r\n",
      "\r\n",
      "Hello from the rank 3 threads \r\n",
      "\r\n",
      "Hello from the rank 2 threads \r\n",
      "\r\n",
      "Parallel execution of hello_world with  4  threads\r\n"
     ]
    }
   ],
   "source": [
    "!pyccel --language=c hello.py --openmp\n",
    "#export OMP_NUM_THREADS=0\n",
    "!./hello"
   ]
  },
  {
   "cell_type": "code",
   "execution_count": 11,
   "id": "57d68e71",
   "metadata": {},
   "outputs": [],
   "source": [
    "import numpy as np"
   ]
  },
  {
   "cell_type": "markdown",
   "id": "aa3d505e",
   "metadata": {},
   "source": [
    "## Exercise 2 Matrix product\n",
    "\n",
    "Considering the following code for matrix product:\n",
    "\n",
    "1. Using pyccel, epyccelize the `matrix_prod` function, and time the execution of epyccelized function.\n",
    "2. Insert the appropriate OpenMP directives and analyse the code performance.\n",
    "3. Test the loop iteration repartition modes (`STATIC`, `DYNAMIC`, `GUIDED`) and vary the chunk sizes.\n",
    "**Example output**\n",
    "\n",
    "```bash\n",
    "   Value of M and N           : 20 20 \n",
    "    Temps elapsed              : 0.0009012222290039062 \n",
    "    Temps CPU                  : 0.0 \n",
    "    Partiel results            : 2790.0 2690.0 ... -3610.0 -4350.0 \n",
    "\n",
    " Execution of Matrix production in parallele with                     8 threads\n",
    "```"
   ]
  },
  {
   "cell_type": "code",
   "execution_count": 12,
   "id": "63275893",
   "metadata": {},
   "outputs": [],
   "source": [
    "import pyccel\n",
    "from pyccel.stdlib.internal.openmp import omp_get_num_threads, omp_get_thread_num, omp_in_parallel, omp_set_num_threads"
   ]
  },
  {
   "cell_type": "code",
   "execution_count": 189,
   "id": "d37278f8",
   "metadata": {},
   "outputs": [
    {
     "name": "stdout",
     "output_type": "stream",
     "text": [
      "Value of M and N   : 20   20 \n",
      " Temps elapsed      : 3.24249267578125e-05 \n",
      " Partiel results   : [ 2850.  2620.  2390.  2160.  1930.  1700.  1470.  1240.  1010.   780.\n",
      "   550.   320.    90.  -140.  -370.  -600.  -830. -1060. -1290. -1520.] \n",
      " CPU time       : 3.6123999997528244e-05 \n",
      "Execution of Matrix production in parallele with  8 threads\n"
     ]
    }
   ],
   "source": [
    "def matrix_prod(A:'float[:,:]', B:'float[:,:]', C:'float[:,:]', N:'int', M:'int'):\n",
    "\n",
    "    #$ omp parallel\n",
    "    print(\"oui, c'est bon\")\n",
    "    #$ omp for collapse(2)reduction (+:A) \n",
    "    for i in range( M ):\n",
    "        for j in range( N ):\n",
    "            A[ i, j ] = (i + 1) + (j + 1)\n",
    "\n",
    "    #$ omp for collapse(2)reduction (+:B) \n",
    "    for i in range( N ):\n",
    "        for j in range( M ):\n",
    "            B[ i, j ] = (i + 1) - (j + 1)\n",
    "\n",
    "    #$ omp for collapse(2)\n",
    "    for i in range( M ):\n",
    "        for j in range( M ):\n",
    "            C[ i, j ] = 0\n",
    "    \n",
    "    # Matrix Production\n",
    "\n",
    "    #$ omp for collapse(3) reduction (*:C) reduction (+:C) \n",
    "    for i in range( M ):\n",
    "        for j in range( M ):\n",
    "            for k in range( N ):\n",
    "                C[ i, j ] += A[ i, k ] * B[ k, j ]\n",
    "    \n",
    "    #$ omp end parallel\n",
    "    return 0\n",
    "\n",
    "#     print(\"Execution of Matrix production in parallele with\",nb_threads, \"threads\")\n",
    "if __name__ == \"__main__\":\n",
    "    import numpy as np\n",
    "    import time\n",
    "    import math\n",
    "    from pyccel.epyccel import epyccel\n",
    "    threads=8\n",
    "    from pyccel.stdlib.internal.openmp import  omp_set_num_threads\n",
    "    omp_set_num_threads(threads)\n",
    "\n",
    "    M = 20\n",
    "    N = 20\n",
    "\n",
    "\n",
    "    # Declare Matrices\n",
    "    A = np.empty((M, N), dtype=np.double)\n",
    "    B = np.empty((N, M), dtype=np.double)\n",
    "    C = np.empty((M, M), dtype=np.double)\n",
    "\n",
    "#   #run and time the matrix_prod function  \n",
    "    #reduction = epyccel(reduction_tab, language='fortran', accelerators=['openmp'])\n",
    "    product = epyccel(matrix_prod, language=\"c\", accelerators= ' openmp ')\n",
    "    import timeit\n",
    "    # start CPU timing\n",
    "    tcpu_0 = time.process_time() \n",
    "    # start whole timing\n",
    "    t1 = time.time()\n",
    "    \n",
    "    product(A,B,C,N,M)\n",
    "    # CPU time \n",
    "    tcpu = time.process_time() - tcpu_0  \n",
    "    # whole time\n",
    "    temps_execution = time.time() - t1\n",
    "    \n",
    "    print(\"Value of M and N   :\", M,\" \",N,'\\n',\n",
    "        \"Temps elapsed      :\", temps_execution,  '\\n',\n",
    "        \"Partiel results   :\", C[0],    '\\n',\n",
    "        \"CPU time       :\", tcpu,        '\\n'\n",
    "        \"Execution of Matrix production in parallele with \",threads,\"threads\"\n",
    "    )"
   ]
  },
  {
   "cell_type": "markdown",
   "id": "5d918166",
   "metadata": {},
   "source": [
    "### Measure the code performance and plot the speedup curves obtained."
   ]
  },
  {
   "cell_type": "code",
   "execution_count": 202,
   "id": "3df245e0",
   "metadata": {},
   "outputs": [
    {
     "name": "stdout",
     "output_type": "stream",
     "text": [
      "[7.605552673339844e-05, 6.818771362304688e-05, 9.846687316894531e-05, 6.771087646484375e-05, 7.700920104980469e-05, 7.104873657226562e-05, 7.653236389160156e-05, 6.699562072753906e-05]\n"
     ]
    }
   ],
   "source": [
    "threads = 8\n",
    "temps_execution = []\n",
    "for i in range(0,threads):\n",
    "    if __name__ == '__main__':\n",
    "        from pyccel.epyccel import epyccel\n",
    "        from pyccel.stdlib.internal.openmp import omp_get_num_threads, omp_get_thread_num, omp_in_parallel, omp_set_num_threads\n",
    "        omp_set_num_threads(i)\n",
    "        execute = epyccel(matrix_prod, language=\"c\", accelerators= ' openmp ')\n",
    "        import timeit\n",
    "        t1 = time.time()\n",
    "\n",
    "        execute(A,B,C,N,M)\n",
    "        temps_execution.append(time.time()- t1)\n",
    "print(temps_execution) \n",
    "\n"
   ]
  },
  {
   "cell_type": "code",
   "execution_count": 203,
   "id": "90f4e0d7",
   "metadata": {},
   "outputs": [
    {
     "data": {
      "image/png": "[encoded data removed]",
      "text/plain": [
       "<Figure size 864x576 with 1 Axes>"
      ]
     },
     "metadata": {
      "needs_background": "light"
     },
     "output_type": "display_data"
    }
   ],
   "source": [
    "import matplotlib.pyplot as plt\n",
    "plt.figure(figsize=(12,8))\n",
    "threads = np.arange(1,9,1)\n",
    "plt.plot(threads,temps_execution, label='temps d\\'exécution en secondes')\n",
    "plt.xlabel(\"threads\")\n",
    "plt.ylabel(\"secondes\")\n",
    "plt.legend()\n",
    "plt.show()"
   ]
  },
  {
   "cell_type": "markdown",
   "id": "cc9d6e51",
   "metadata": {},
   "source": [
    "## Exercise 3 Jacobi method\n",
    "\n",
    "Considering the following code for a general linear system solver:\n",
    "\n",
    "$$ A \\times x = b $$\n",
    "\n",
    "using the Jacobi iterative method.\n",
    "In this exercice, you must solve the system in parallel\n",
    "   \n",
    "**Example Output**\n",
    "    \n",
    "```bash\n",
    "System size    : 20 \n",
    " Iterations     : 21 \n",
    " Stand          : 2.9100049961372497e-08 \n",
    " Elapsed Time   : 7.447303771972656 \n",
    " CPU time       : 0.921875 \n",
    "```"
   ]
  },
  {
   "cell_type": "code",
   "execution_count": 79,
   "id": "44299f71",
   "metadata": {},
   "outputs": [
    {
     "name": "stdout",
     "output_type": "stream",
     "text": [
      "System size    : 20 \n",
      " Iterations     : 21 \n",
      " Stand          : 0.00190483892910887 \n",
      " Elapsed Time   : 0.636737585067749 \n",
      " CPU time       : 0.07200652599999913 \n",
      "\n"
     ]
    }
   ],
   "source": [
    "def jacobi(a:'float[:,:]', b:'float[:]', x:'float[:]', n:'int', eps:'float'):\n",
    "\n",
    "#     print(\"Execution of Jacobi in parallel with\", nb_tasks, \"threads\")\n",
    "    # Jacobi method resolution\n",
    "    import numpy as np\n",
    "    import math\n",
    "    x_courant = np.empty(n, dtype=np.double)\n",
    "    iteration = 0\n",
    "    #$ omp parallel \n",
    "    while(1):\n",
    "        iteration += 1\n",
    "        #$ omp for\n",
    "        for i in range(n):\n",
    "            x_courant[i] = 0\n",
    "            for j in range(i):\n",
    "                x_courant[i] += a[ j, i ] * x[j]\n",
    "            for j in range(i + 1, n):\n",
    "                x_courant[i] += a[ j, i ] * x[j]\n",
    "\n",
    "            x_courant[i] = (b[i] - x_courant[i]) / a[ i, i ]\n",
    "        \n",
    "        # Convergence test\n",
    "        \n",
    "        \n",
    "        absmax = 0.\n",
    "        #$ omp for\n",
    "        for i in range(n):\n",
    "            curr = math.fabs(x[i] - x_courant[i])\n",
    "            if curr > absmax:\n",
    "                absmax = curr\n",
    "        stand = absmax / n\n",
    "        \n",
    "        if stand <= eps or iteration > n:\n",
    "            break\n",
    "        \n",
    "        # copy x_courant into x\n",
    "        \n",
    "        #$ omp for\n",
    "        for i in range(n):\n",
    "            x [i] = x_courant[i]\n",
    "            \n",
    "    #$ omp end parallel\n",
    "\n",
    "    return stand, iteration\n",
    "\n",
    "\n",
    "if __name__ == \"__main__\":\n",
    "\n",
    "    import numpy as np\n",
    "    import time, random, math, sys\n",
    "\n",
    "    # Matrix default dimension\n",
    "    n = 20\n",
    "    diag = 20\n",
    "\n",
    "    # Initialize of the matrices\n",
    "    np.random.seed(421)  # for reproductibles results\n",
    "    a = np.random.uniform(0, 1, size=(n, n))\n",
    "    b = np.random.uniform(0, 1, size=n)\n",
    "\n",
    "    # We strengthen the main diagonal of the matrix\n",
    "    for i in range(n):\n",
    "        a[ i, i ] += diag\n",
    "\n",
    "    # Initial solution\n",
    "    x = np.ones(n, dtype=np.double)\n",
    "\n",
    "    # start CPU timing\n",
    "    cpu_0 = time.process_time()\n",
    "\n",
    "    # start Wall timing\n",
    "    elapsed_0 = time.time()\n",
    "\n",
    "    # Pyccelize jacobi function\n",
    "    from pyccel.epyccel import epyccel\n",
    "    p_jacobi = epyccel(jacobi, language='fortran', accelerators=['openmp'])\n",
    "\n",
    "    eps = sys.float_info.epsilon\n",
    "\n",
    "    # -------------------- computing ------------------\n",
    "    stand, iteration = p_jacobi(a, b, x, n, eps)\n",
    "    # ------------------ End computing ----------------\n",
    "\n",
    "    # CPU time\n",
    "    cpu_1 = time.process_time() \n",
    "    cpu = cpu_1 - cpu_0\n",
    "\n",
    "    # Wall timing\n",
    "    elapsed_1 = time.time()\n",
    "    elapsed = elapsed_1 - elapsed_0\n",
    "\n",
    "    print(\n",
    "        \"System size    :\", n,          '\\n',\n",
    "        \"Iterations     :\", iteration,  '\\n',\n",
    "        \"Stand          :\", stand,      '\\n',\n",
    "        \"Elapsed Time   :\", elapsed,    '\\n',\n",
    "        \"CPU time       :\", cpu,        '\\n'\n",
    "    )"
   ]
  },
  {
   "cell_type": "markdown",
   "id": "6d650c53",
   "metadata": {},
   "source": [
    "## Exercise 4 Calculation of π\n",
    "\n",
    "The aim of this exercise is to calculate π by numerical integration knowing that Considering the following code for matrix product: $\\int_{0}^{1} \\frac{4}{1 + x^2} = {\\pi} $\n",
    "\n",
    "The following program is for calculating the value of\n",
    "π by the rectangle method (mid-point). Let $f(x) = \\frac{4}{1 + x^2} $\n",
    "2 be the function to integrate, N and $ h = \\frac{1}{N} $ (respectively) the number of points, and the discretization width on the integration\n",
    "interval $[0, 1]$.\n",
    "\n",
    "Analyse the performance of the codes, then optimise  your code using OpenMP directives."
   ]
  },
  {
   "cell_type": "code",
   "execution_count": 9,
   "id": "67137907",
   "metadata": {},
   "outputs": [
    {
     "name": "stdout",
     "output_type": "stream",
     "text": [
      "Overwriting pi.py\n"
     ]
    }
   ],
   "source": [
    "%%file pi.py\n",
    "def f(a:'float'):\n",
    "    return 4.0 / (1. + a * a)\n",
    "\n",
    "def pi(n:'int', h:'float'):\n",
    "#     print(\"Execution of PI in parallel with\", nb_tasks,\"threads\")\n",
    "    from pyccel.stdlib.internal.openmp import omp_get_num_threads, omp_get_thread_num, omp_in_parallel, omp_set_num_threads\n",
    "    omp_set_num_threads(4)\n",
    "    #$ omp parallel private(rank, nb_tasks, i_min, i_max)\n",
    "    i_min = 100.\n",
    "    i_max = 0.\n",
    "    rank = omp_get_thread_num()\n",
    "    nb_tasks = omp_get_num_threads()\n",
    "    #$ omp for \n",
    "    #reduction(+:x) reduction(*:x)\n",
    "    for k in range(100):\n",
    "        Pi_calc = 0.\n",
    "        for i in range(n):\n",
    "            x = h * (i + 0.5)\n",
    "            Pi_calc = Pi_calc + f(x)\n",
    "            i_min = min(float(i_min),float(i))\n",
    "            i_max = min(float(i_min),float(i))\n",
    "\n",
    "        Pi_calc = h * Pi_calc\n",
    "    #$ omp end parallel\n",
    "    return Pi_calc"
   ]
  },
  {
   "cell_type": "code",
   "execution_count": 10,
   "id": "d9742f4a",
   "metadata": {},
   "outputs": [
    {
     "name": "stdout",
     "output_type": "stream",
     "text": [
      "   Number of intervals        : 300 \n",
      "    | Pi_estime - Pi_calcule | : 0.2180689987943727 \n",
      "    Temps elapsed              : 0.00021195411682128906 \n",
      "    Temps CPU                  : 0.000217729999999694 \n",
      "    Pi estimé                  : 3.141592653589793 \n",
      "    Pi calculé                 : 3.359661652384166 \n",
      "\n"
     ]
    }
   ],
   "source": [
    "import time, math\n",
    "\n",
    "if __name__ == '__main__':\n",
    "    #                  __\n",
    "    #  But : calcul de || par la methode des rectangles (point milieu).\n",
    "    #\n",
    "    #                   / 1\n",
    "    #                  |       4            __\n",
    "    #                  |   ----------  dx = ||\n",
    "    #                  |    1 + x**2\n",
    "    #                 / 0\n",
    "\n",
    "\n",
    "    n = 300\n",
    "\n",
    "    # Length of the integration interval\n",
    "    h = 1.0 / n\n",
    "\n",
    "    from pyccel.epyccel import epyccel\n",
    "    import pi\n",
    "    pyc_pi = epyccel(pi, language='fortran', accelerators=['openmp'])\n",
    "\n",
    "    # start timing\n",
    "    tcpu_0 = time.process_time() # CPU time\n",
    "    t_elapsed_0 = time.time()    # Wall time\n",
    "\n",
    "    # -------------------- computing ------------------\n",
    "\n",
    "    Pi_calc = pyc_pi.pi(n, h)\n",
    "\n",
    "    # ------------------ End computing ----------------\n",
    "\n",
    "    # CPU time spent\n",
    "    tcpu_1 = time.process_time()\n",
    "    tcpu = tcpu_1 - tcpu_0  \n",
    "\n",
    "    # Wall time spent\n",
    "    t_elapsed_1 = time.time()\n",
    "    t_elapsed = t_elapsed_1 - t_elapsed_0\n",
    "\n",
    "    # deviation between the estimated value and the calculated value of Pi\n",
    "    Pi_estime = math.acos(-1)\n",
    "    deviat = math.fabs(Pi_estime - Pi_calc)\n",
    "\n",
    "    # Print result\n",
    "    print(\n",
    "      \"   Number of intervals        :\", n,         \"\\n\",\n",
    "\t  \"   | Pi_estime - Pi_calcule | :\", deviat,    \"\\n\",\n",
    "\t  \"   Temps elapsed              :\", t_elapsed, \"\\n\",\n",
    "\t  \"   Temps CPU                  :\", tcpu,      \"\\n\",\n",
    "      \"   Pi estimé                  :\", Pi_estime, \"\\n\",\n",
    "      \"   Pi calculé                 :\", Pi_calc,   \"\\n\",\n",
    "    )"
   ]
  },
  {
   "cell_type": "markdown",
   "id": "62d4072c",
   "metadata": {},
   "source": [
    "### Measure the code performance and plot the speedup curves obtained."
   ]
  },
  {
   "cell_type": "code",
   "execution_count": 204,
   "id": "b6de7ed4",
   "metadata": {},
   "outputs": [
    {
     "name": "stdout",
     "output_type": "stream",
     "text": [
      "[0.008872270584106445, 0.00020647048950195312, 0.0053937435150146484, 0.00023603439331054688, 0.00022721290588378906, 0.00023627281188964844, 0.00021839141845703125, 0.000209808349609375]\n"
     ]
    },
    {
     "data": {
      "image/png": "[encoded data removed]",
      "text/plain": [
       "<Figure size 864x576 with 1 Axes>"
      ]
     },
     "metadata": {
      "needs_background": "light"
     },
     "output_type": "display_data"
    }
   ],
   "source": [
    "#Initialisation\n",
    "import pi\n",
    "n = 300\n",
    "h = 1.0 / n\n",
    "threads = 8\n",
    "\n",
    "\n",
    "temps_execution = []\n",
    "for i in range(0,threads):\n",
    "    if __name__ == '__main__':\n",
    "        from pyccel.epyccel import epyccel\n",
    "        from pyccel.stdlib.internal.openmp import omp_get_num_threads, omp_get_thread_num, omp_in_parallel, omp_set_num_threads\n",
    "        omp_set_num_threads(i)\n",
    "        pyc_pi = epyccel(pi, language='fortran', accelerators=['openmp'])\n",
    "        import timeit\n",
    "        t1 = time.time()\n",
    "\n",
    "        Pi_calc = pyc_pi.pi(n, h)\n",
    "        temps_execution.append(time.time()- t1)\n",
    "print(temps_execution) \n",
    "\n",
    "import matplotlib.pyplot as plt\n",
    "plt.figure(figsize=(12,8))\n",
    "threads = np.arange(1,9,1)\n",
    "plt.plot(threads,temps_execution, label='temps d\\'exécution en secondes')\n",
    "plt.xlabel(\"threads\")\n",
    "plt.ylabel(\"secondes\")\n",
    "plt.legend()\n",
    "plt.show()\n"
   ]
  },
  {
   "cell_type": "markdown",
   "id": "d1eb7dfe",
   "metadata": {},
   "source": [
    "## Exercise 5 Reduction of an array\n",
    "\n",
    "The given program contained in the `reduction_tab.py` file is extracted from a chemistry code. It reduces a three-dimensional array into a vector. The aim of this exercise is to parallelize this calculation kernel without changing the loop order in the provided code (i.e. k,j,i)\n",
    "\n",
    "1. Analyse the data-sharing attributes of the variables and adapt the source code so that the K outermost loop is parallelized.\n",
    "2. Compare the performance obtained by using the thread/core binding default execution on Ada and by using scatter binding. Suggest an explanation for the poor performance of the latter.\n",
    "3. Optimise the source code for the scatter mode with taking into account the memory affinity. Why does this third series of executions give the best performance "
   ]
  },
  {
   "cell_type": "code",
   "execution_count": 198,
   "id": "d9bc85e5",
   "metadata": {},
   "outputs": [
    {
     "name": "stdout",
     "output_type": "stream",
     "text": [
      "Overwriting reduction_tab.py\n"
     ]
    }
   ],
   "source": [
    "%%file reduction_tab.py\n",
    "\n",
    "from pyccel.stdlib.internal.openmp import omp_get_num_threads, omp_get_thread_num, omp_in_parallel, omp_set_num_threads\n",
    "\n",
    "omp_set_num_threads(4)\n",
    "\n",
    "def threads_num():\n",
    "    from pyccel.stdlib.internal.openmp import  omp_get_thread_num\n",
    "    return omp_get_thread_num()\n",
    "def initialize_table(tab:'float[:,:,:]', nmolec:'int', n:'int', nmol:'int'):\n",
    "    # Initialisation du tableau\n",
    "    # First-touch pour garantir un fonctionnement optimal sur les systemes NUMA\n",
    "#$ omp parallel\n",
    "    #$ omp for collapse(3)\n",
    "    for k in range(nmolec):\n",
    "        for j in range(n):\n",
    "            for i in range(nmol):\n",
    "                tab[ i,j,k ] = i + j + k\n",
    "    #$ omp end parallel\n",
    "\n",
    "def reduction(tab:'float[:,:,:]', tab1:'float[:]', tab2:'float[:]', nmolec:'int', nmol:'int', n:'int'):\n",
    "    \n",
    "    #$ omp parallel\n",
    "    #$ omp for \n",
    "    for k in range(nmolec):\n",
    "        tab1[:nmol] = 0\n",
    "        for j in range(n):\n",
    "            for i in range(nmol):\n",
    "                tab1[i] = tab1[i] + tab[i,j,k]\n",
    "        tab2[:nmol] = tab2[:nmol] + 2 * tab1[:nmol]\n",
    "    #$ omp end parallel"
   ]
  },
  {
   "cell_type": "code",
   "execution_count": 199,
   "id": "a095c4cb",
   "metadata": {},
   "outputs": [],
   "source": [
    "np.empty((100,10,100), dtype=np.double).shape\n",
    "omp_set_num_threads(4)"
   ]
  },
  {
   "cell_type": "code",
   "execution_count": 206,
   "id": "9d06f98e",
   "metadata": {
    "scrolled": true
   },
   "outputs": [
    {
     "name": "stdout",
     "output_type": "stream",
     "text": [
      "Execution of reduction table in parallele with 8 threads\n",
      "Temps elapsed  : 0.000148773193359375 \n",
      " Temps CPU      : 0.00014841399999454552 \n",
      " Erreur relative: 0.2395 \n",
      "\n"
     ]
    }
   ],
   "source": [
    "from os import error\n",
    "\n",
    "if __name__ == '__main__':\n",
    "    import numpy as np\n",
    "    import time\n",
    "\n",
    "    # default dimension\n",
    "    nmolec = 100\n",
    "    nmol   = 100\n",
    "    n      = 10\n",
    "\n",
    "    tab     = np.empty((nmol, n, nmolec), dtype=np.double)\n",
    "    tab1    = np.empty((nmol), dtype=np.double)\n",
    "    tab2    = np.zeros((nmol), dtype=np.double)\n",
    "\n",
    "    # pyccelize reduction tab module\n",
    "    from pyccel.epyccel import epyccel\n",
    "    import reduction_tab\n",
    "\n",
    "    threads = 8\n",
    "    omp_set_num_threads(threads)\n",
    "    \n",
    "    reduction = epyccel(reduction_tab, language='fortran', accelerators=['openmp'])\n",
    "    \n",
    "    print(\"Execution of reduction table in parallele with\", threads, \"threads\")\n",
    "\n",
    "    # initialize tab \n",
    "    reduction.initialize_table(tab, nmol, n, nmolec)\n",
    "\n",
    "    # start timing\n",
    "    tcpu_0 = time.process_time() # CPU time\n",
    "    t_elapsed_0 = time.time()    # Wall time\n",
    "\n",
    "    # -------------------- computing ------------------\n",
    "    reduction.reduction(tab, tab1, tab2, nmolec, nmol, n)\n",
    "    # ------------------ End computing ----------------\n",
    "\n",
    "    # CPU time spent\n",
    "    tcpu_1 = time.process_time()\n",
    "    tcpu = tcpu_1 - tcpu_0\n",
    "\n",
    "    # Wall time spent\n",
    "    t_elapsed_1 = time.time()\n",
    "    t_elapsed = t_elapsed_1 - t_elapsed_0\n",
    "\n",
    "    # verification of results\n",
    "    tab2c = np.zeros((nmol), dtype=np.double)\n",
    "    for k in range(nmolec):\n",
    "        tab1c = np.zeros((nmol), dtype=np.double)\n",
    "        for j in range(n):\n",
    "            for i in range(nmol):\n",
    "                tab1c[i] = tab1c[i] + tab[i, j, k]\n",
    "        tab2c [:] = tab2c[:nmol] + 2 * tab1c[:]\n",
    "    err = np.max(np.abs(tab2c - tab2) / np.abs(tab2c))\n",
    "    print(\n",
    "        \"Temps elapsed  :\", t_elapsed   , \"\\n\",\n",
    "        \"Temps CPU      :\", tcpu        , \"\\n\",\n",
    "        \"Erreur relative:\", err         , \"\\n\"\n",
    "    )"
   ]
  },
  {
   "cell_type": "markdown",
   "id": "d4adb159",
   "metadata": {},
   "source": [
    "### Measure the code performance and plot the speedup curves obtained."
   ]
  },
  {
   "cell_type": "code",
   "execution_count": 207,
   "id": "d36cf34e",
   "metadata": {},
   "outputs": [
    {
     "name": "stdout",
     "output_type": "stream",
     "text": [
      "[0.00021386146545410156, 0.00022339820861816406, 0.0003669261932373047, 0.00023508071899414062, 0.00025200843811035156, 0.00022649765014648438, 0.00021791458129882812, 0.00021600723266601562]\n"
     ]
    },
    {
     "data": {
      "image/png": "[encoded data removed]",
      "text/plain": [
       "<Figure size 864x576 with 1 Axes>"
      ]
     },
     "metadata": {
      "needs_background": "light"
     },
     "output_type": "display_data"
    }
   ],
   "source": [
    "#Initialisation\n",
    "nmolec = 100\n",
    "nmol   = 100\n",
    "n      = 10\n",
    "\n",
    "tab     = np.empty((nmol, n, nmolec), dtype=np.double)\n",
    "tab1    = np.empty((nmol), dtype=np.double)\n",
    "tab2    = np.zeros((nmol), dtype=np.double)\n",
    "\n",
    "\n",
    "\n",
    "temps_execution = []\n",
    "for i in range(0,threads):\n",
    "    if __name__ == '__main__':\n",
    "        from pyccel.epyccel import epyccel\n",
    "        from pyccel.stdlib.internal.openmp import omp_get_num_threads, omp_get_thread_num, omp_in_parallel, omp_set_num_threads\n",
    "        omp_set_num_threads(i)\n",
    "        reduction = epyccel(reduction_tab, language='fortran', accelerators=['openmp'])\n",
    "        import timeit\n",
    "        t1 = time.time()\n",
    "\n",
    "        reduction.reduction(tab, tab1, tab2, nmolec, nmol, n)\n",
    "        temps_execution.append(time.time()- t1)\n",
    "print(temps_execution) \n",
    "\n",
    "import matplotlib.pyplot as plt\n",
    "plt.figure(figsize=(12,8))\n",
    "threads = np.arange(1,9,1)\n",
    "plt.plot(threads,temps_execution, label='temps d\\'exécution en secondes')\n",
    "plt.xlabel(\"threads\")\n",
    "plt.ylabel(\"secondes\")\n",
    "plt.legend()\n",
    "plt.show()\n"
   ]
  },
  {
   "cell_type": "markdown",
   "id": "e24b9e5f",
   "metadata": {},
   "source": [
    "# Exercise 6 Matrix product by the Strassen algorithm\n",
    "\n",
    "Considering the following code that calculates the matrix product :\n",
    "\n",
    "$$C = A \\times B$$\n",
    "\n",
    "by using Strassen’s recursive algorithm.\n",
    "\n",
    "In this exercise, you must :\n",
    "1. Analyse and parallelize the code by using OpenMP tasks.\n",
    "2. Measure the code performance and plot the speedup curves obtained."
   ]
  },
  {
   "cell_type": "code",
   "execution_count": 95,
   "id": "86f1d69f",
   "metadata": {},
   "outputs": [],
   "source": [
    "import time, math\n",
    "import numpy as np\n",
    "\n",
    "def threads_num():\n",
    "    #complete your function\n",
    "    from pyccel.stdlib.internal.openmp import  omp_get_thread_num\n",
    "    return omp_get_thread_num()\n",
    "\n",
    "def strassen_multiply(A:'float[:,:]', B:'float[:,:]', C:'float[:,:]', n:'int'):\n",
    "    import numpy as np\n",
    "    #$ omp parallel\n",
    "    if n & 1 != 0  or n < 128:\n",
    "        C[:,:] = np.matmul(A, B)\n",
    "    else:\n",
    "        #$ omp sections \n",
    "        #$ omp section\n",
    "        n2 = n // 2\n",
    "        A11 = A[ 0:n2, 0:n2 ]\n",
    "        A21 = A[ n2:n, 0:n2 ]\n",
    "        A12 = A[ 0:n2, n2:n ]\n",
    "        A22 = A[ n2:n, n2:n ]\n",
    "        #$ omp end section\n",
    "        \n",
    "        #$ omp section\n",
    "        B11 = B[ 0:n2, 0:n2 ]\n",
    "        B21 = B[ n2:n, 0:n2 ]\n",
    "        B12 = B[ 0:n2, n2:n ]\n",
    "        B22 = B[ n2:n, n2:n ]\n",
    "        #$ omp end section\n",
    "        \n",
    "        #$ omp section\n",
    "        Q1 = np.empty((n2, n2), dtype=np.double)\n",
    "        Q2 = np.empty((n2, n2), dtype=np.double)\n",
    "        Q3 = np.empty((n2, n2), dtype=np.double)\n",
    "        Q4 = np.empty((n2, n2), dtype=np.double)\n",
    "        Q5 = np.empty((n2, n2), dtype=np.double)\n",
    "        Q6 = np.empty((n2, n2), dtype=np.double)\n",
    "        Q7 = np.empty((n2, n2), dtype=np.double)\n",
    "        #$ omp end section\n",
    "        #$ omp end sections\n",
    "        \n",
    "        strassen_multiply(A11+A22, B11+B22, Q1, n2)\n",
    "        strassen_multiply(A21+A22, B11, Q2, n2)\n",
    "        strassen_multiply(A11, B12-B22, Q3, n2)\n",
    "        strassen_multiply(A22, -B11+B21, Q4, n2) \n",
    "        strassen_multiply(A11+A12, B22, Q5, n2)\n",
    "        strassen_multiply(-A11+A21, B11+B12, Q6, n2)\n",
    "        strassen_multiply(A12-A22, B21+B22, Q7, n2)\n",
    "        C[:n2,:n2] = Q1+Q4-Q5+Q7\n",
    "        C[n2:n,:n2] = Q2+Q4\n",
    "        C[:n2,n2:n] = Q3+Q5\n",
    "        C[n2:n,n2:n] = Q1+Q3-Q2+Q6\n",
    "    #$ omp end parallel"
   ]
  },
  {
   "cell_type": "code",
   "execution_count": 96,
   "id": "0a963b25",
   "metadata": {},
   "outputs": [],
   "source": [
    "def calcul_erreur(n, A, B, C):\n",
    "    D = np.matmul(A, B) \n",
    "    error = 0.0\n",
    "    for i in range(n):\n",
    "        for j in range(n):\n",
    "            e = C[ i, j ] - D[ i, j ]\n",
    "            error += e * e\n",
    "\n",
    "    error = math.sqrt(error) / n\n",
    "    return error"
   ]
  },
  {
   "cell_type": "code",
   "execution_count": 194,
   "id": "84a619a7",
   "metadata": {},
   "outputs": [
    {
     "name": "stdout",
     "output_type": "stream",
     "text": [
      "Execution of Strassen in parallele with 8 threads\n",
      "   Erreur        : 3.377379142794413e-14 \n",
      "    Temps elapsed : 0.009119987487792969 \n",
      "    Temps CPU     : 0.029522957000004624 \n",
      "\n"
     ]
    }
   ],
   "source": [
    "\n",
    "if __name__ == '__main__':\n",
    "    n = 256\n",
    "    from pyccel.stdlib.internal.openmp import omp_set_num_threads\n",
    "    threads=8\n",
    "    omp_set_num_threads(threads)\n",
    "    # Initialize Matrices\n",
    "    np.random.seed(421)\n",
    "    A = np.random.uniform(0, 1, (n, n))\n",
    "    B = np.random.uniform(0, 1, (n, n))\n",
    "    C = np.empty((n,n), dtype=np.double)\n",
    "\n",
    "    \n",
    "    from pyccel.epyccel import epyccel\n",
    "    strassen = epyccel(strassen_multiply, accelerators=['openmp'])\n",
    "#    num_threads = epyccel(threads_num, accelerators=['openmp'])\n",
    "    print(\"Execution of Strassen in parallele with\", threads, \"threads\")\n",
    "    \n",
    "    \n",
    "    # Start timing\n",
    "    tcpu_0 = time.process_time() # CPU time\n",
    "    t_elapsed_0 = time.time()    # Wall time\n",
    "    # -------------------- computing ------------------\n",
    "    # Calcul C=A*B par la methode recursive de Strassen\n",
    "    strassen(A, B, C, n)\n",
    "    # ------------------ end computing ----------------\n",
    "    # CPU time spent\n",
    "    tcpu_1 = time.process_time()\n",
    "    tcpu = tcpu_1 - tcpu_0\n",
    "\n",
    "    # Wall time spent\n",
    "    t_elapsed_1 = time.time()\n",
    "    t_elapsed = t_elapsed_1 - t_elapsed_0\n",
    "    # Print result\n",
    "    print(\n",
    "      \"   Erreur        :\", calcul_erreur(n, A, B, C),  \"\\n\",\n",
    "\t  \"   Temps elapsed :\", t_elapsed,                  \"\\n\",\n",
    "\t  \"   Temps CPU     :\", tcpu,                       \"\\n\",\n",
    "    )\n"
   ]
  },
  {
   "cell_type": "markdown",
   "id": "90ce11d8",
   "metadata": {},
   "source": [
    "### Measure the code performance and plot the speedup curves obtained."
   ]
  },
  {
   "cell_type": "code",
   "execution_count": 205,
   "id": "580ea054",
   "metadata": {},
   "outputs": [
    {
     "name": "stdout",
     "output_type": "stream",
     "text": [
      "[0.0066373348236083984, 0.006253242492675781, 0.006384134292602539, 0.006316661834716797, 0.0061435699462890625, 0.006316184997558594, 0.0062024593353271484, 0.006183147430419922]\n"
     ]
    },
    {
     "data": {
      "image/png": "[encoded data removed]",
      "text/plain": [
       "<Figure size 864x576 with 1 Axes>"
      ]
     },
     "metadata": {
      "needs_background": "light"
     },
     "output_type": "display_data"
    }
   ],
   "source": [
    "#Initialisation\n",
    "n = 256\n",
    "from pyccel.stdlib.internal.openmp import omp_set_num_threads\n",
    "threads=8\n",
    "omp_set_num_threads(threads)\n",
    "# Initialize Matrices\n",
    "np.random.seed(421)\n",
    "A = np.random.uniform(0, 1, (n, n))\n",
    "B = np.random.uniform(0, 1, (n, n))\n",
    "C = np.empty((n,n), dtype=np.double)\n",
    "\n",
    "\n",
    "\n",
    "temps_execution = []\n",
    "for i in range(0,threads):\n",
    "    if __name__ == '__main__':\n",
    "        from pyccel.epyccel import epyccel\n",
    "        from pyccel.stdlib.internal.openmp import omp_get_num_threads, omp_get_thread_num, omp_in_parallel, omp_set_num_threads\n",
    "        omp_set_num_threads(i)\n",
    "        strassen = epyccel(strassen_multiply, accelerators=['openmp'])\n",
    "        import timeit\n",
    "        t1 = time.time()\n",
    "\n",
    "        strassen(A, B, C, n)\n",
    "        temps_execution.append(time.time()- t1)\n",
    "print(temps_execution) \n",
    "\n",
    "import matplotlib.pyplot as plt\n",
    "plt.figure(figsize=(12,8))\n",
    "threads = np.arange(1,9,1)\n",
    "plt.plot(threads,temps_execution, label='temps d\\'exécution en secondes')\n",
    "plt.xlabel(\"threads\")\n",
    "plt.ylabel(\"secondes\")\n",
    "plt.legend()\n",
    "plt.show()\n"
   ]
  },
  {
   "cell_type": "code",
   "execution_count": 47,
   "id": "32e7ff2c",
   "metadata": {},
   "outputs": [],
   "source": []
  }
 ],
 "metadata": {
  "kernelspec": {
   "display_name": "Python 3 (ipykernel)",
   "language": "python",
   "name": "python3"
  },
  "language_info": {
   "codemirror_mode": {
    "name": "ipython",
    "version": 3
   },
   "file_extension": ".py",
   "mimetype": "text/x-python",
   "name": "python",
   "nbconvert_exporter": "python",
   "pygments_lexer": "ipython3",
   "version": "3.8.10"
  }
 },
 "nbformat": 4,
 "nbformat_minor": 5
}
