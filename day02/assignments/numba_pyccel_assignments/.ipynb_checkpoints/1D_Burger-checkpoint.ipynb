{
 "cells": [
  {
   "cell_type": "markdown",
   "metadata": {},
   "source": [
    "## Imports"
   ]
  },
  {
   "cell_type": "code",
   "execution_count": 1,
   "metadata": {},
   "outputs": [
    {
     "name": "stdout",
     "output_type": "stream",
     "text": [
      "Requirement already satisfied: pyccel in /home/desire/Documents/HPC/base/lib/python3.8/site-packages (1.4.4)\n",
      "Requirement already satisfied: sympy>=1.2 in /home/desire/Documents/HPC/base/lib/python3.8/site-packages (from pyccel) (1.6.2)\n",
      "Requirement already satisfied: numpy in /home/desire/Documents/HPC/base/lib/python3.8/site-packages (from pyccel) (1.19.4)\n",
      "Requirement already satisfied: termcolor in /home/desire/Documents/HPC/base/lib/python3.8/site-packages (from pyccel) (1.1.0)\n",
      "Requirement already satisfied: textx>=2.2 in /home/desire/Documents/HPC/base/lib/python3.8/site-packages (from pyccel) (3.0.0)\n",
      "Requirement already satisfied: filelock in /home/desire/Documents/HPC/base/lib/python3.8/site-packages (from pyccel) (3.6.0)\n",
      "Requirement already satisfied: mpmath>=0.19 in /home/desire/Documents/HPC/base/lib/python3.8/site-packages (from sympy>=1.2->pyccel) (1.2.1)\n",
      "Requirement already satisfied: Arpeggio>=2.0.0 in /home/desire/Documents/HPC/base/lib/python3.8/site-packages (from textx>=2.2->pyccel) (2.0.0)\n",
      "Requirement already satisfied: future in /home/desire/Documents/HPC/base/lib/python3.8/site-packages (from textx>=2.2->pyccel) (0.15.2)\n"
     ]
    }
   ],
   "source": [
    "!pip install pyccel"
   ]
  },
  {
   "cell_type": "code",
   "execution_count": 2,
   "metadata": {},
   "outputs": [],
   "source": [
    "import numpy as np\n",
    "import sympy as sp\n",
    "from sympy.utilities.lambdify import lambdify\n",
    "\n",
    "from sympy import init_printing\n",
    "init_printing(use_latex=True)\n",
    "import matplotlib.pyplot as plt\n",
    "\n",
    "import time\n",
    "from numba import njit\n",
    "from pyccel.epyccel import epyccel\n",
    "from pyccel.decorators import types\n",
    "\n",
    "#fill the libraries import\n",
    "#..."
   ]
  },
  {
   "cell_type": "markdown",
   "metadata": {},
   "source": [
    "## Pure python function"
   ]
  },
  {
   "cell_type": "code",
   "execution_count": 38,
   "metadata": {},
   "outputs": [],
   "source": [
    "def solve_1d_burger_pure(u, un, nt, nx, dt, dx, nu):\n",
    "    for n in range(nt):  \n",
    "        for i in range(nx):\n",
    "            un[i] = u[i]\n",
    "        u = np.zeros(len(un))   \n",
    "        for i in range(1, nx-1): \n",
    "            u[i] = un[i] - un[i] * (dt/dx) * (un[i] - un[i-1]) + nu * (dt / dx**2) * (un[i+1] -2 * un[i] + un[i-1])\n",
    "    return 0"
   ]
  },
  {
   "cell_type": "markdown",
   "metadata": {},
   "source": [
    "## Numba accelerator"
   ]
  },
  {
   "cell_type": "code",
   "execution_count": 39,
   "metadata": {},
   "outputs": [],
   "source": [
    "#add the numba decorator to accelerate code\n",
    "@njit(fastmath=True)\n",
    "def solve_1d_burger_numba(u, un, nt, nx, dt, dx, nu):\n",
    "    for n in range(nt):  \n",
    "        for i in range(nx): \n",
    "            un[i] = u[i]\n",
    "        u = np.zeros(len(un)) \n",
    "        for i in range(1, nx-1): \n",
    "            u[i] = un[i] - un[i] * (dt/dx) * (un[i] - un[i-1]) + nu * (dt / dx**2) * (un[i+1] -2 * un[i] + un[i-1])\n",
    "    return 0"
   ]
  },
  {
   "cell_type": "markdown",
   "metadata": {},
   "source": [
    "## Pyccel accelerator"
   ]
  },
  {
   "cell_type": "code",
   "execution_count": 40,
   "metadata": {},
   "outputs": [],
   "source": [
    "#add the pyccel decorator to accelerate code\n",
    "def solve_1d_burger_pyccel(u:'float[:]', un:'float[:]', nt:'int', nx:'int', dt:'float', dx:'float', nu:'float'):\n",
    "    for n in range(nt):  \n",
    "        for i in range(nx): \n",
    "            un[i] = u[i]\n",
    "        u[:] = 0 \n",
    "        for i in range(1, nx-1): \n",
    "            u[i] = un[i] - un[i] * (dt/dx) * (un[i] - un[i-1]) + nu * (dt / dx**2) * (un[i+1] -2 * un[i] + un[i-1])\n",
    "    return 0"
   ]
  },
  {
   "cell_type": "markdown",
   "metadata": {},
   "source": [
    "## Inputs"
   ]
  },
  {
   "cell_type": "code",
   "execution_count": 41,
   "metadata": {},
   "outputs": [],
   "source": [
    "#sympy computation\n",
    "x, nu, t = sp.symbols('x nu t')\n",
    "phi = (sp.exp(-(x - 4 * t)**2 / (4 * nu * (t + 1))) +\n",
    "       sp.exp(-(x - 4 * t - 2 * sp.pi)**2 / (4 * nu * (t + 1))))\n",
    "\n",
    "phiprime = phi.diff(x)\n",
    "u = -2 * nu * (phiprime / phi) + 4\n",
    "ufunc = lambdify((t, x, nu), u)"
   ]
  },
  {
   "cell_type": "code",
   "execution_count": 42,
   "metadata": {},
   "outputs": [],
   "source": [
    "###variable declarations\n",
    "nx = 201\n",
    "nt = 100\n",
    "dx = 2 * np.pi / (nx - 1)\n",
    "nu = .07\n",
    "dt = dx * nu\n",
    "\n",
    "x = np.linspace(0, 2 * np.pi, nx)\n",
    "un = np.empty(nx)\n",
    "t = 0"
   ]
  },
  {
   "cell_type": "markdown",
   "metadata": {},
   "source": [
    "## Plot initial condition"
   ]
  },
  {
   "cell_type": "code",
   "execution_count": 43,
   "metadata": {},
   "outputs": [
    {
     "data": {
      "image/png": "[encoded data removed]",
      "text/plain": [
       "<Figure size 432x288 with 1 Axes>"
      ]
     },
     "metadata": {
      "needs_background": "light"
     },
     "output_type": "display_data"
    }
   ],
   "source": [
    "u = np.asarray([ufunc(t, x0, nu) for x0 in x])\n",
    "plt.figure()\n",
    "plt.plot(x, u, marker='o', lw=2)\n",
    "plt.xlim([0, 2 * np.pi])\n",
    "plt.ylim([0, 10]);"
   ]
  },
  {
   "cell_type": "code",
   "execution_count": 49,
   "metadata": {},
   "outputs": [
    {
     "data": {
      "image/png": "[encoded data removed]",
      "text/plain": [
       "<Figure size 432x288 with 1 Axes>"
      ]
     },
     "metadata": {
      "needs_background": "light"
     },
     "output_type": "display_data"
    }
   ],
   "source": [
    "#u[:] = 0\n",
    "solve_1d_burger_pure(u, un, nt, nx, dt, dx, nu)\n",
    "\n",
    "# Analytical solution\n",
    "u_analytical = np.asarray([ufunc(nt * dt, xi, nu) for xi in x])\n",
    "\n",
    "\n",
    "#Plotting data\n",
    "plt.figure()\n",
    "plt.plot(x,u, marker='o', lw=2, label='Computational')\n",
    "plt.plot(x, u_analytical, label='Analytical')\n",
    "plt.xlim([0, 2 * np.pi])\n",
    "plt.ylim([0, 10])\n",
    "plt.legend();"
   ]
  },
  {
   "cell_type": "markdown",
   "metadata": {},
   "source": [
    "## Call Funtions"
   ]
  },
  {
   "cell_type": "markdown",
   "metadata": {},
   "source": [
    "### Pure function"
   ]
  },
  {
   "cell_type": "code",
   "execution_count": 50,
   "metadata": {},
   "outputs": [
    {
     "name": "stdout",
     "output_type": "stream",
     "text": [
      "52.8 ms ± 3.51 ms per loop (mean ± std. dev. of 7 runs, 10 loops each)\n"
     ]
    }
   ],
   "source": [
    "%timeit solve_1d_burger_pure(u, un, nt, nx, dt, dx, nu)"
   ]
  },
  {
   "cell_type": "markdown",
   "metadata": {},
   "source": [
    "### Function with numba accelerator"
   ]
  },
  {
   "cell_type": "code",
   "execution_count": 11,
   "metadata": {},
   "outputs": [
    {
     "name": "stdout",
     "output_type": "stream",
     "text": [
      "146 µs ± 13.5 µs per loop (mean ± std. dev. of 7 runs, 1 loop each)\n"
     ]
    }
   ],
   "source": [
    "%timeit solve_1d_burger_numba(u, un, nt, nx, dt, dx, nu)"
   ]
  },
  {
   "cell_type": "markdown",
   "metadata": {},
   "source": [
    "### Function with pyccel accelerator"
   ]
  },
  {
   "cell_type": "code",
   "execution_count": 13,
   "metadata": {},
   "outputs": [
    {
     "name": "stdout",
     "output_type": "stream",
     "text": [
      "22.7 µs ± 137 ns per loop (mean ± std. dev. of 7 runs, 10000 loops each)\n"
     ]
    }
   ],
   "source": [
    "solve_1d_burger_f90 = epyccel(solve_1d_burger_pyccel, language = \"c\")\n",
    "%timeit solve_1d_burger_f90(u, un, nt, nx, dt, dx, nu)"
   ]
  },
  {
   "cell_type": "code",
   "execution_count": null,
   "metadata": {},
   "outputs": [],
   "source": []
  }
 ],
 "metadata": {
  "kernelspec": {
   "display_name": "Python 3 (ipykernel)",
   "language": "python",
   "name": "python3"
  },
  "language_info": {
   "codemirror_mode": {
    "name": "ipython",
    "version": 3
   },
   "file_extension": ".py",
   "mimetype": "text/x-python",
   "name": "python",
   "nbconvert_exporter": "python",
   "pygments_lexer": "ipython3",
   "version": "3.8.10"
  }
 },
 "nbformat": 4,
 "nbformat_minor": 2
}
