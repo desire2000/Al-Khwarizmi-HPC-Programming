{
 "cells": [
  {
   "cell_type": "markdown",
   "id": "9GqdeI_c2VL_",
   "metadata": {
    "id": "9GqdeI_c2VL_"
   },
   "source": [
    "## Exercise 1 Hello World\n",
    "\n",
    "1. Write an MPI program displaying the number of processes used for the execution and the rank of each process.\n",
    "2. Test the programs obtained with different numbers of threads for the parallel program.\n",
    "\n",
    "**Output Example**\n",
    "```shell\n",
    "Hello from the rank 2 process\n",
    "Hello from the rank 0 process\n",
    "Hello from the rank 3 process\n",
    "Hello from the rank 1 process\n",
    "Parallel execution of hello_world with 4 process\n",
    "```\n",
    "*Note that the output order maybe different*"
   ]
  },
  {
   "cell_type": "code",
   "execution_count": 3,
   "id": "suCzN5P14FCK",
   "metadata": {
    "colab": {
     "base_uri": "https://localhost:8080/"
    },
    "id": "suCzN5P14FCK",
    "outputId": "3a34bf9a-4993-436f-f578-5b72362c0515"
   },
   "outputs": [
    {
     "name": "stdout",
     "output_type": "stream",
     "text": [
      "Looking in indexes: https://pypi.org/simple, https://us-python.pkg.dev/colab-wheels/public/simple/\n",
      "Collecting mpi4py\n",
      "  Downloading mpi4py-3.1.3.tar.gz (2.5 MB)\n",
      "\u001b[K     |████████████████████████████████| 2.5 MB 26.1 MB/s \n",
      "\u001b[?25h  Installing build dependencies ... \u001b[?25l\u001b[?25hdone\n",
      "  Getting requirements to build wheel ... \u001b[?25l\u001b[?25hdone\n",
      "    Preparing wheel metadata ... \u001b[?25l\u001b[?25hdone\n",
      "Building wheels for collected packages: mpi4py\n",
      "  Building wheel for mpi4py (PEP 517) ... \u001b[?25l\u001b[?25hdone\n",
      "  Created wheel for mpi4py: filename=mpi4py-3.1.3-cp37-cp37m-linux_x86_64.whl size=2185315 sha256=242596021f2167fc8bdd622e21fbda1774faae6177285c4877194b707c2707d2\n",
      "  Stored in directory: /root/.cache/pip/wheels/7a/07/14/6a0c63fa2c6e473c6edc40985b7d89f05c61ff25ee7f0ad9ac\n",
      "Successfully built mpi4py\n",
      "Installing collected packages: mpi4py\n",
      "Successfully installed mpi4py-3.1.3\n"
     ]
    }
   ],
   "source": [
    "!pip install mpi4py"
   ]
  },
  {
   "cell_type": "code",
   "execution_count": 18,
   "id": "buCEn20Z2VME",
   "metadata": {
    "colab": {
     "base_uri": "https://localhost:8080/"
    },
    "id": "buCEn20Z2VME",
    "outputId": "4d76dc7e-1520-4a06-f7c2-a8f9fcaa9e85"
   },
   "outputs": [
    {
     "name": "stdout",
     "output_type": "stream",
     "text": [
      "Overwriting hello.py\n"
     ]
    }
   ],
   "source": [
    "%%file hello.py\n",
    "from mpi4py import MPI\n",
    "COMM = MPI.COMM_WORLD\n",
    "RANK = COMM.Get_rank()\n",
    "SIZE = COMM.Get_size()\n",
    "\n",
    "print(\"Hello from the rank {} process\".format(RANK))\n",
    "COMM.Barrier()\n",
    "if RANK == 0:\n",
    "  print(\"Parallel execution of hello_world with {} process\".format(SIZE))\n",
    " "
   ]
  },
  {
   "cell_type": "code",
   "execution_count": 5,
   "id": "lnX6_rAE2VMG",
   "metadata": {
    "colab": {
     "base_uri": "https://localhost:8080/"
    },
    "id": "lnX6_rAE2VMG",
    "outputId": "9757ff94-ed2c-4168-e654-1be33c62e95e"
   },
   "outputs": [
    {
     "name": "stdout",
     "output_type": "stream",
     "text": [
      "Hello from the rank 1 process\r\n",
      "Hello from the rank 0 process\r\n",
      "Parallel execution of hello_world with 2 process\r\n"
     ]
    }
   ],
   "source": [
    "# enter command for compile and run the program\n",
    "!mpirun -n 2 python3 hello.py "
   ]
  },
  {
   "cell_type": "markdown",
   "id": "ci-mObAi2VMH",
   "metadata": {
    "id": "ci-mObAi2VMH"
   },
   "source": [
    "## Exercise 2 Sharing Data \n",
    "\n",
    "A common need is for one process to get data from the user, either by reading from the terminal or command line arguments, and then to distribute this information to all other processors.\n",
    "\n",
    "Write a program that reads an integer value from the terminal and distributes the value to all of the MPI processes. Each process should print out its rank and the value it received. Values should be read until a negative integer is given as input.\n",
    "\n",
    "You may want to use these MPI routines in your solution:\n",
    "`Get_rank` `Bcast` \n",
    "\n",
    "**Output Example**\n",
    "```shell\n",
    "10\n",
    "Process 0 got 10\n",
    "Process 1 got 10\n",
    "```"
   ]
  },
  {
   "cell_type": "code",
   "execution_count": 11,
   "id": "KVbSOoRy2VMI",
   "metadata": {
    "colab": {
     "base_uri": "https://localhost:8080/"
    },
    "id": "KVbSOoRy2VMI",
    "outputId": "965b1a34-8a37-4b1e-c8ff-b4850c6b4a14"
   },
   "outputs": [
    {
     "name": "stdout",
     "output_type": "stream",
     "text": [
      "Overwriting sharing.py\n"
     ]
    }
   ],
   "source": [
    "%%file sharing.py\n",
    "from mpi4py import MPI\n",
    "COMM = MPI.COMM_WORLD\n",
    "RANK = COMM.Get_rank()\n",
    "\n",
    "recv = 1\n",
    "send =1\n",
    "# COMM.Barrier()\n",
    "while recv > 0:\n",
    "    if RANK == 0 :\n",
    "      send = int(input('Enter a number : ')) \n",
    "        # send = 10\n",
    "      print(send)\n",
    "    else: \n",
    "      send = None\n",
    "\n",
    "    recv = COMM.bcast(send, root=0)\n",
    "    print(\"Process {rank} got {recv} \".format(rank=RANK, recv=recv))\n",
    "\n"
   ]
  },
  {
   "cell_type": "code",
   "execution_count": 21,
   "id": "C0X6LpopxmM0",
   "metadata": {
    "colab": {
     "base_uri": "https://localhost:8080/"
    },
    "id": "C0X6LpopxmM0",
    "outputId": "69615f72-e2ab-4931-b05f-79a7b70c448b"
   },
   "outputs": [
    {
     "name": "stdout",
     "output_type": "stream",
     "text": [
      "Enter a number : ^C\n"
     ]
    }
   ],
   "source": [
    "# enter command for compile and run the program\n",
    "!mpirun -n 2 python3 sharing.py"
   ]
  },
  {
   "cell_type": "markdown",
   "id": "_3Sur7t62VMJ",
   "metadata": {
    "id": "_3Sur7t62VMJ"
   },
   "source": []
  },
  {
   "cell_type": "markdown",
   "id": "x6yIoGvX2VMJ",
   "metadata": {
    "id": "x6yIoGvX2VMJ"
   },
   "source": [
    "## Exercise 3 Sending in a ring (broadcast by ring)\n",
    "\n",
    "Write a program that takes data from process zero and sends it to all of the other processes by sending it in a ring. That is, process i should receive the data and send it to process i+1, until the last process is reached.\n",
    "Assume that the data consists of a single integer. Process zero reads the data from the user.\n",
    "![](../data/ring.gif)\n",
    "\n",
    "You may want to use these MPI routines in your solution:\n",
    "`Send` `Recv` "
   ]
  },
  {
   "cell_type": "code",
   "execution_count": 16,
   "id": "ksEl7NmeCIS9",
   "metadata": {
    "colab": {
     "base_uri": "https://localhost:8080/"
    },
    "id": "ksEl7NmeCIS9",
    "outputId": "ece02fe7-aa6f-4955-c7fa-fc869f0a2734"
   },
   "outputs": [
    {
     "name": "stdout",
     "output_type": "stream",
     "text": [
      "Overwriting ring.py\n"
     ]
    }
   ],
   "source": [
    "%%file ring.py\n",
    "from mpi4py import MPI\n",
    "COMM = MPI.COMM_WORLD\n",
    "RANK = COMM.Get_rank()\n",
    "SIZE = COMM.Get_size()\n",
    "\n",
    "# for i in range(SIZE):\n",
    "sendbuf = 1\n",
    "# while(sendbuf > 0):\n",
    "if RANK == 0 :\n",
    "  # sendbuf = int(input()) \n",
    "  sendbuf = 10\n",
    "  recvbuf = 10\n",
    "  COMM.send(sendbuf, dest = RANK+1)\n",
    "else:\n",
    "  recvbuf = COMM.recv(source=RANK-1)\n",
    "  if RANK < SIZE - 1:\n",
    "    COMM.send(sendbuf, dest = RANK+1)\n",
    "\n",
    "print(\"Process : \", RANK, \"obtain \",recvbuf)\n",
    "\n",
    "  "
   ]
  },
  {
   "cell_type": "code",
   "execution_count": 17,
   "id": "nxuSIQ3mRZOp",
   "metadata": {
    "colab": {
     "base_uri": "https://localhost:8080/"
    },
    "id": "nxuSIQ3mRZOp",
    "outputId": "252e3c03-48e7-443f-9f07-7dfc5a47c107"
   },
   "outputs": [
    {
     "name": "stdout",
     "output_type": "stream",
     "text": [
      "--------------------------------------------------------------------------\r\n",
      "mpirun was unable to find the specified executable file, and therefore\r\n",
      "did not launch the job.  This error was first reported for process\r\n",
      "rank 0; it may have occurred for other processes as well.\r\n",
      "\r\n",
      "NOTE: A common cause for this error is misspelling a mpirun command\r\n",
      "      line parameter option (remember that mpirun interprets the first\r\n",
      "      unrecognized command line token as the executable).\r\n",
      "\r\n",
      "Node:       latitude\r\n",
      "Executable: python\r\n",
      "--------------------------------------------------------------------------\r\n",
      "2 total processes failed to start\r\n"
     ]
    }
   ],
   "source": [
    "# enter command for compile and run the program\n",
    "! mpirun -n 2 python ring.py"
   ]
  },
  {
   "cell_type": "markdown",
   "id": "zw585oKN2VMK",
   "metadata": {
    "id": "zw585oKN2VMK"
   },
   "source": [
    "## Exercise 4 Matrix vector product\n",
    "\n",
    "1. Use the `MatrixVectorMult.py` file to implement the MPI version of matrix vector multiplication.\n",
    "2. Process 0 compares the result with the `dot` product.\n",
    "3. Plot the scalability of your implementation. \n",
    "\n",
    "**Output Example**\n",
    "```shell\n",
    "CPU time of parallel multiplication using 2 processes is  174.923446\n",
    "The error comparing to the dot product is : 1.4210854715202004e-14\n",
    "```"
   ]
  },
  {
   "cell_type": "code",
   "execution_count": null,
   "id": "40AUEaYn2VML",
   "metadata": {
    "id": "40AUEaYn2VML",
    "outputId": "9b8cef42-0d71-4f12-bf5b-f67543cb5141"
   },
   "outputs": [
    {
     "name": "stdout",
     "output_type": "stream",
     "text": [
      "Writing MatrixVectorMult_V0.py\n"
     ]
    }
   ],
   "source": [
    " %%file MatrixVectorMult_V0.py\n",
    " # write your program here"
   ]
  },
  {
   "cell_type": "code",
   "execution_count": null,
   "id": "HZuvW1lo2VML",
   "metadata": {
    "id": "HZuvW1lo2VML"
   },
   "outputs": [],
   "source": [
    "# enter command for compile and run the program"
   ]
  },
  {
   "cell_type": "markdown",
   "id": "PN8jkFNc2VMM",
   "metadata": {
    "id": "PN8jkFNc2VMM"
   },
   "source": [
    "## Exercise 5 Calculation of π (Monte Carlo)\n",
    "\n",
    "1. Use the `PiMonteCarlo.py` file to implement the calculation of PI using Monte Carlo.\n",
    "2. Process 0 prints the result.\n",
    "3. Plot the scalability of your implementation. "
   ]
  },
  {
   "cell_type": "code",
   "execution_count": null,
   "id": "Fw8wcPcv2VMN",
   "metadata": {
    "id": "Fw8wcPcv2VMN"
   },
   "outputs": [],
   "source": [
    " %%file PiMonteCarlo_V0.py\n",
    " # write your program here"
   ]
  },
  {
   "cell_type": "code",
   "execution_count": null,
   "id": "w8lJT4FV2VMN",
   "metadata": {
    "id": "w8lJT4FV2VMN"
   },
   "outputs": [],
   "source": [
    "# enter command for compile and run the program"
   ]
  }
 ],
 "metadata": {
  "colab": {
   "name": "mpi_assign.ipynb",
   "provenance": []
  },
  "hide_input": false,
  "kernelspec": {
   "display_name": "Python 3 (ipykernel)",
   "language": "python",
   "name": "python3"
  },
  "language_info": {
   "codemirror_mode": {
    "name": "ipython",
    "version": 3
   },
   "file_extension": ".py",
   "mimetype": "text/x-python",
   "name": "python",
   "nbconvert_exporter": "python",
   "pygments_lexer": "ipython3",
   "version": "3.8.10"
  }
 },
 "nbformat": 4,
 "nbformat_minor": 5
}
